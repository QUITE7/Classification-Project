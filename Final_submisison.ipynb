{
 "cells": [
  {
   "cell_type": "code",
   "execution_count": null,
   "id": "d65365a7",
   "metadata": {
    "_cell_guid": "b1076dfc-b9ad-4769-8c92-a6c4dae69d19",
    "_uuid": "8f2839f25d086af736a60e9eeb907d3b93b6e0e5",
    "execution": {
     "iopub.execute_input": "2021-08-06T02:04:32.282188Z",
     "iopub.status.busy": "2021-08-06T02:04:32.280982Z",
     "iopub.status.idle": "2021-08-06T02:04:32.305474Z",
     "shell.execute_reply": "2021-08-06T02:04:32.305963Z"
    },
    "papermill": {
     "duration": 0.055995,
     "end_time": "2021-08-06T02:04:32.306255",
     "exception": false,
     "start_time": "2021-08-06T02:04:32.250260",
     "status": "completed"
    },
    "tags": []
   },
   "outputs": [],
   "source": [
    "# This Python 3 environment comes with many helpful analytics libraries installed\n",
    "# It is defined by the kaggle/python Docker image: https://github.com/kaggle/docker-python\n",
    "# For example, here's several helpful packages to load\n",
    "\n",
    "import numpy as np # linear algebra\n",
    "import pandas as pd # data processing, CSV file I/O (e.g. pd.read_csv)\n",
    "\n",
    "# Input data files are available in the read-only \"../input/\" directory\n",
    "# For example, running this (by clicking run or pressing Shift+Enter) will list all files under the input directory\n",
    "\n",
    "import os\n",
    "for dirname, _, filenames in os.walk('/kaggle/input'):\n",
    "    for filename in filenames:\n",
    "        print(os.path.join(dirname, filename))\n",
    "\n",
    "# You can write up to 20GB to the current directory (/kaggle/working/) that gets preserved as output when you create a version using \"Save & Run All\" \n",
    "# You can also write temporary files to /kaggle/temp/, but they won't be saved outside of the current session"
   ]
  },
  {
   "cell_type": "code",
   "execution_count": null,
   "id": "f01381bf",
   "metadata": {
    "execution": {
     "iopub.execute_input": "2021-08-06T02:04:32.367313Z",
     "iopub.status.busy": "2021-08-06T02:04:32.366402Z",
     "iopub.status.idle": "2021-08-06T02:04:40.057576Z",
     "shell.execute_reply": "2021-08-06T02:04:40.056877Z",
     "shell.execute_reply.started": "2021-08-06T00:09:07.540435Z"
    },
    "papermill": {
     "duration": 7.723934,
     "end_time": "2021-08-06T02:04:40.057777",
     "exception": false,
     "start_time": "2021-08-06T02:04:32.333843",
     "status": "completed"
    },
    "tags": []
   },
   "outputs": [],
   "source": [
    "import tensorflow as tf\n",
    "import numpy as np\n",
    "import pandas as pd \n",
    "from sklearn.model_selection import train_test_split\n",
    "import matplotlib.pyplot as plt\n",
    "import numpy as np\n",
    "from tensorflow.keras.utils import to_categorical\n",
    "from sklearn import svm\n",
    "from sklearn.preprocessing import StandardScaler\n",
    "from sklearn.metrics import accuracy_score\n",
    "from sklearn.neighbors import KNeighborsClassifier\n",
    "import datetime\n",
    "tf.config.run_functions_eagerly(True)"
   ]
  },
  {
   "cell_type": "code",
   "execution_count": null,
   "id": "29ded597",
   "metadata": {},
   "outputs": [],
   "source": [
    "df=pd.read_csv('Full_2.csv')"
   ]
  },
  {
   "cell_type": "code",
   "execution_count": null,
   "id": "f3e0c952",
   "metadata": {
    "scrolled": true
   },
   "outputs": [],
   "source": [
    "df"
   ]
  },
  {
   "cell_type": "code",
   "execution_count": null,
   "id": "234c3270",
   "metadata": {},
   "outputs": [],
   "source": [
    "df.info()"
   ]
  },
  {
   "cell_type": "code",
   "execution_count": null,
   "id": "11e0697b",
   "metadata": {},
   "outputs": [],
   "source": [
    "to_drop = ['Unnamed: 0','Unnamed: 0.1','Unnamed: 0.1.1']\n",
    "df.drop(to_drop, inplace=True, axis=1)\n",
    "df.head()"
   ]
  },
  {
   "cell_type": "code",
   "execution_count": null,
   "id": "ac504977",
   "metadata": {},
   "outputs": [],
   "source": [
    "df.dropna(inplace=True)"
   ]
  },
  {
   "cell_type": "code",
   "execution_count": null,
   "id": "16834d82",
   "metadata": {},
   "outputs": [],
   "source": [
    "df"
   ]
  },
  {
   "cell_type": "code",
   "execution_count": null,
   "id": "4f3c9883",
   "metadata": {},
   "outputs": [],
   "source": [
    "counts=df.label.value_counts()\n",
    "counts"
   ]
  },
  {
   "cell_type": "code",
   "execution_count": null,
   "id": "0ffe3914",
   "metadata": {},
   "outputs": [],
   "source": [
    "df = df.loc[df['label'].isin(counts.index[counts >300 ])]\n",
    "df"
   ]
  },
  {
   "cell_type": "code",
   "execution_count": null,
   "id": "56bb4bc5",
   "metadata": {},
   "outputs": [],
   "source": [
    "X= df.drop('label',1)\n",
    "y=df['label']"
   ]
  },
  {
   "cell_type": "code",
   "execution_count": null,
   "id": "acb59c8c",
   "metadata": {},
   "outputs": [],
   "source": [
    "from multi_imbalance.utils.plot import plot_cardinality_and_2d_data\n",
    "plot_cardinality_and_2d_data(X,y,'lable')"
   ]
  },
  {
   "cell_type": "code",
   "execution_count": null,
   "id": "27661c1b",
   "metadata": {},
   "outputs": [],
   "source": [
    "from collections import Counter\n",
    "\n",
    "from imblearn.over_sampling import RandomOverSampler"
   ]
  },
  {
   "cell_type": "code",
   "execution_count": null,
   "id": "4d06d918",
   "metadata": {},
   "outputs": [],
   "source": [
    "ros = RandomOverSampler(random_state=0)\n",
    "X_resampled, y_resampled = ros.fit_resample(X,y)\n",
    "\n",
    "Counter(y_resampled)"
   ]
  },
  {
   "cell_type": "code",
   "execution_count": null,
   "id": "fb5009f6",
   "metadata": {},
   "outputs": [],
   "source": [
    "y_resampled"
   ]
  },
  {
   "cell_type": "code",
   "execution_count": null,
   "id": "9537638c",
   "metadata": {},
   "outputs": [],
   "source": [
    "from multi_imbalance.utils.plot import plot_cardinality_and_2d_data\n",
    "plot_cardinality_and_2d_data(X_resampled, y_resampled,'lable')"
   ]
  },
  {
   "cell_type": "code",
   "execution_count": null,
   "id": "cb38559d",
   "metadata": {},
   "outputs": [],
   "source": [
    "from sklearn.model_selection import train_test_split\n",
    "\n",
    "X_train, X_test, y_train, y_test = train_test_split(X_resampled, y_resampled, test_size=0.2, random_state=42)"
   ]
  },
  {
   "cell_type": "code",
   "execution_count": null,
   "id": "07055658",
   "metadata": {},
   "outputs": [],
   "source": [
    "X_train"
   ]
  },
  {
   "cell_type": "code",
   "execution_count": null,
   "id": "8f3d3f4b",
   "metadata": {},
   "outputs": [],
   "source": [
    "y_test"
   ]
  },
  {
   "cell_type": "code",
   "execution_count": null,
   "id": "3e275e13",
   "metadata": {},
   "outputs": [],
   "source": [
    "rnd_clf = RandomForestClassifier(n_estimators=50, max_depth=50, random_state=42)\n",
    "# Scaling is not needed for Decision Tree algorithm and hence for Random Forest and XGBoost algorithms as they \n",
    "# are also based on Decision Trees. Hence, not using scaled training dataset here\n",
    "rnd_clf.fit(X_train, y_train)"
   ]
  },
  {
   "cell_type": "code",
   "execution_count": null,
   "id": "81ca48b3",
   "metadata": {},
   "outputs": [],
   "source": [
    "y_pred = rnd_clf .predict(X_test)\n",
    "accuracy = accuracy_score(y_test, y_pred)\n",
    "print(f'Model Accuracy: {round(accuracy, 4)*100}')"
   ]
  },
  {
   "cell_type": "code",
   "execution_count": null,
   "id": "3ea7e93f",
   "metadata": {},
   "outputs": [],
   "source": [
    "from xgboost import XGBClassifier"
   ]
  },
  {
   "cell_type": "code",
   "execution_count": null,
   "id": "03e877da",
   "metadata": {},
   "outputs": [],
   "source": [
    "clf = XGBClassifier().fit(X_train, y_train)"
   ]
  },
  {
   "cell_type": "code",
   "execution_count": null,
   "id": "511c2c61",
   "metadata": {},
   "outputs": [],
   "source": [
    "y_pred = clf.predict(X_test)\n",
    "accuracy = accuracy_score(y_test, y_pred)\n",
    "print(f'Model Accuracy: {round(accuracy, 4)*100}')"
   ]
  },
  {
   "cell_type": "code",
   "execution_count": null,
   "id": "79f1d3ae",
   "metadata": {},
   "outputs": [],
   "source": [
    "import numpy as np\n",
    "import pandas as pd\n",
    "from scipy import stats\n",
    "import seaborn as sns\n",
    "import matplotlib.pyplot as plt\n",
    "import plotly.express as px\n",
    "import plotly.graph_objects as go\n",
    "import plotly.figure_factory as ff\n",
    "from plotly.subplots import make_subplots\n",
    "from plotly.offline import init_notebook_mode, iplot\n",
    "init_notebook_mode(connected=True)\n",
    "\n",
    "import warnings\n",
    "warnings.filterwarnings(\"ignore\")\n",
    "\n",
    "from sklearn.model_selection import train_test_split\n",
    "from sklearn.preprocessing import StandardScaler\n",
    "from sklearn.metrics import accuracy_score\n",
    "\n",
    "from sklearn.svm import SVC\n",
    "from sklearn.neighbors import KNeighborsClassifier\n",
    "from sklearn.linear_model import LogisticRegression\n",
    "from xgboost import XGBClassifier\n",
    "import xgboost as xgb\n",
    "from sklearn.calibration import CalibratedClassifierCV\n",
    "\n",
    "\n",
    "from sklearn.ensemble import RandomForestClassifier\n",
    "from sklearn.naive_bayes import GaussianNB\n",
    "from sklearn.naive_bayes import BernoulliNB\n",
    "from sklearn.model_selection import GridSearchCV, RepeatedKFold, RandomizedSearchCV\n",
    "from sklearn.model_selection import StratifiedKFold\n",
    "from sklearn.metrics import auc, accuracy_score, confusion_matrix, f1_score, classification_report\n",
    "\n",
    "from imblearn.over_sampling import SMOTE,ADASYN, SVMSMOTE\n",
    "from imblearn.under_sampling import NearMiss\n",
    "from sklearn.model_selection import train_test_split"
   ]
  },
  {
   "cell_type": "code",
   "execution_count": null,
   "id": "e9b721b5",
   "metadata": {},
   "outputs": [],
   "source": [
    "\n",
    "X_train, val_train, y_train, val_train2= train_test_split(X_resampled, y_resampled, test_size=0.25, random_state=42)\n",
    "print(\"shape of training features : \"+ str(X_train.shape))\n",
    "print(\"shape of training labels\" + str(y_train.shape))\n",
    "\n",
    "print(\"shape of valuation features \" + str(val_train.shape))\n",
    "print(\"shape of valuation labels\" + str(val_train2.shape))\n",
    "\n",
    "print(\"shape of testing features\" + str(X_test.shape))\n",
    "print(\"shape of testing labels\" + str(y_test.shape))"
   ]
  },
  {
   "cell_type": "code",
   "execution_count": null,
   "id": "99589cd1",
   "metadata": {},
   "outputs": [],
   "source": [
    "RF_model_valid1_acc = (rnd_clf.predict(X_test) == y_test).mean()\n",
    "print(\"Validation Accuracy =\", RF_model_valid1_acc)"
   ]
  },
  {
   "cell_type": "code",
   "execution_count": null,
   "id": "2b0b351f",
   "metadata": {},
   "outputs": [],
   "source": [
    "RF_model_valid2_acc = (rnd_clf.predict(val_train) == val_train2).mean()\n",
    "print(\"Validation Accuracy =\", RF_model_valid2_acc)"
   ]
  },
  {
   "cell_type": "code",
   "execution_count": null,
   "id": "176886a3",
   "metadata": {},
   "outputs": [],
   "source": []
  },
  {
   "cell_type": "code",
   "execution_count": null,
   "id": "9cc17202",
   "metadata": {},
   "outputs": [],
   "source": [
    "X_train = np.array(X_train, dtype = 'float32')\n",
    "\n",
    "X_test = np.array(X_test, dtype = 'float32')\n",
    "y_train= np.array(y_train, dtype = 'float32')\n",
    "y_test = np.array(y_test, dtype = 'float32')\n",
    "val_train= np.array(val_train, dtype = 'float32')\n",
    "val_train2 = np.array(val_train2, dtype = 'float32')"
   ]
  },
  {
   "cell_type": "code",
   "execution_count": null,
   "id": "0cb5c1b8",
   "metadata": {},
   "outputs": [],
   "source": [
    "X_train = X_train / 255.\n",
    "X_test = X_test / 255."
   ]
  },
  {
   "cell_type": "code",
   "execution_count": null,
   "id": "46303b93",
   "metadata": {},
   "outputs": [],
   "source": [
    "class_names = ['T_shirt/top', 'Trouser', 'Pullover', 'Dress', 'Coat', \n",
    "                'Ankle boot','Shirt', 'Sneaker', 'Bag']\n",
    "plt.figure(figsize=(10, 10))\n",
    "for i in range(36):\n",
    "    plt.subplot(6, 6, i + 1)\n",
    "    plt.xticks([])\n",
    "    plt.yticks([])\n",
    "    plt.grid(False)\n",
    "    plt.imshow(X_train[i].reshape((28,28)))\n",
    "    label_index = int(y_train[i])\n",
    "    plt.title(class_names[label_index])\n",
    "plt.show()"
   ]
  },
  {
   "cell_type": "code",
   "execution_count": null,
   "id": "ee774fd0",
   "metadata": {},
   "outputs": [],
   "source": [
    "x_train=X_train\n",
    "x_test=X_test"
   ]
  },
  {
   "cell_type": "code",
   "execution_count": null,
   "id": "b5a7eae3",
   "metadata": {},
   "outputs": [],
   "source": [
    "df_test=y_test"
   ]
  },
  {
   "cell_type": "code",
   "execution_count": null,
   "id": "21016c50",
   "metadata": {},
   "outputs": [],
   "source": [
    "x_train = x_train.values.reshape((-1, 28, 28, 1))\n",
    "x_test = x_test.values.reshape((-1, 28, 28, 1))\n",
    "\n",
    "\n",
    "df_test = df_test.values.reshape((-1, 28, 28, 1))"
   ]
  },
  {
   "cell_type": "code",
   "execution_count": null,
   "id": "ecc4e4fb",
   "metadata": {},
   "outputs": [],
   "source": [
    "#X_train,X_validate,y_train,y_validate = train_test_split(X,y,test_size = 0.2,random_state = 42)"
   ]
  },
  {
   "cell_type": "code",
   "execution_count": null,
   "id": "9b65c002",
   "metadata": {},
   "outputs": [],
   "source": [
    "from sklearn.ensemble import RandomForestClassifier\n",
    "from sklearn.neural_network import MLPClassifier"
   ]
  },
  {
   "cell_type": "code",
   "execution_count": null,
   "id": "4598e5fd",
   "metadata": {},
   "outputs": [],
   "source": [
    "from sklearn.ensemble import RandomForestClassifier\n",
    "from sklearn.metrics import confusion_matrix"
   ]
  },
  {
   "cell_type": "code",
   "execution_count": null,
   "id": "33acb903",
   "metadata": {},
   "outputs": [],
   "source": [
    "RF_model = RandomForestClassifier(n_estimators=100, max_depth=50, random_state=42)\n",
    "RF_model.fit(X_train, y_train)"
   ]
  },
  {
   "cell_type": "code",
   "execution_count": null,
   "id": "6c5afeb4",
   "metadata": {},
   "outputs": [],
   "source": [
    "y_pred = RF_model.predict(X_test)\n",
    "accuracy = accuracy_score(y_test, y_pred)\n",
    "print(f'Model Accuracy: {round(accuracy, 4)*100}')"
   ]
  },
  {
   "cell_type": "code",
   "execution_count": null,
   "id": "f95ac5a1",
   "metadata": {},
   "outputs": [],
   "source": [
    "RF_model_train_acc = (RF_model.predict(X_test) == y_test).mean()\n",
    "print(\"Training Accuracy =\", RF_model_train_acc)"
   ]
  },
  {
   "cell_type": "code",
   "execution_count": null,
   "id": "1a7ada5e",
   "metadata": {},
   "outputs": [],
   "source": [
    "RF_model_valid1_acc = (RF_model.predict(val_train) == y_test).mean()\n",
    "print(\"Validation Accuracy =\", RF_model_valid1_acc)"
   ]
  },
  {
   "cell_type": "code",
   "execution_count": null,
   "id": "5b7c012e",
   "metadata": {},
   "outputs": [],
   "source": [
    "import numpy as np\n",
    "import pandas as pd\n",
    "from sklearn.model_selection import train_test_split\n",
    "from sklearn.metrics import classification_report\n",
    "from tensorflow.python import keras\n",
    "from tensorflow.python.keras.models import Sequential\n",
    "from tensorflow.python.keras.layers import Dense, Flatten, Conv2D, Dropout, MaxPooling2D\n",
    "from IPython.display import SVG\n",
    "from keras.utils.vis_utils import model_to_dot\n",
    "from tensorflow.keras.utils import plot_model\n",
    "import seaborn as sns\n",
    "import matplotlib.pyplot as plt\n",
    "%matplotlib inline \n",
    "import plotly.graph_objs as go\n",
    "import plotly.figure_factory as ff\n",
    "from plotly import tools\n",
    "from plotly.offline import download_plotlyjs, init_notebook_mode, plot, iplot\n",
    "init_notebook_mode(connected=True)"
   ]
  },
  {
   "cell_type": "code",
   "execution_count": null,
   "id": "35adf86a",
   "metadata": {},
   "outputs": [],
   "source": [
    "X_train = X_train.reshape(X_train.shape[0],*image_shape)\n",
    "X_test = X_test.reshape(X_test.shape[0],*image_shape)\n",
    "X_validate = val_train.reshape(val_train.shape[0],*image_shape)\n"
   ]
  },
  {
   "cell_type": "code",
   "execution_count": null,
   "id": "77ce0334",
   "metadata": {},
   "outputs": [],
   "source": [
    "print(\"Fashion MNIST train -  rows:\",X_train.shape[0],\" columns:\", X_train.shape[1:4])\n",
    "print(\"Fashion MNIST valid -  rows:\",X_validate.shape[0],\" columns:\", X_validate.shape[1:4])\n",
    "print(\"Fashion MNIST test -  rows:\",X_test.shape[0],\" columns:\", X_test.shape[1:4])\n",
    "print(\"Fashion MNIST test -  rows:\",y_train.shape[0],\" columns:\", y_train.shape[1:1])"
   ]
  },
  {
   "cell_type": "code",
   "execution_count": null,
   "id": "7e93e73f",
   "metadata": {},
   "outputs": [],
   "source": [
    "IMG_ROWS = 28\n",
    "IMG_COLS = 28\n",
    "NUM_CLASSES = 10\n",
    "TEST_SIZE = 0.2\n",
    "RANDOM_STATE = 2018\n",
    "#Model\n",
    "NO_EPOCHS = 50\n",
    "BATCH_SIZE = 128\n",
    "\n",
    "IS_LOCAL = False\n",
    "\n"
   ]
  },
  {
   "cell_type": "code",
   "execution_count": null,
   "id": "1d5cb250",
   "metadata": {},
   "outputs": [],
   "source": [
    "model = Sequential()\n",
    "# Add convolution 2D\n",
    "model.add(Conv2D(32, kernel_size=(3, 3),\n",
    "                 activation='relu',\n",
    "                 kernel_initializer='he_normal',\n",
    "                 input_shape=(IMG_ROWS, IMG_COLS, 1)))\n",
    "model.add(MaxPooling2D((2, 2)))\n",
    "model.add(Conv2D(64, \n",
    "                 kernel_size=(3, 3), \n",
    "                 activation='relu'))\n",
    "model.add(MaxPooling2D(pool_size=(2, 2)))\n",
    "model.add(Conv2D(128, (3, 3), activation='relu'))\n",
    "model.add(Flatten())\n",
    "model.add(Dense(128, activation='relu'))\n",
    "model.add(Dense(NUM_CLASSES, activation='softmax'))\n",
    "\n",
    "\n",
    "model.compile(loss=keras.losses.categorical_crossentropy,\n",
    "              optimizer='adam',\n",
    "              metrics=['accuracy'])"
   ]
  },
  {
   "cell_type": "code",
   "execution_count": null,
   "id": "070e18c7",
   "metadata": {},
   "outputs": [],
   "source": [
    "foo = None\n",
    "foo.create = 1"
   ]
  },
  {
   "cell_type": "code",
   "execution_count": null,
   "id": "36332b55",
   "metadata": {},
   "outputs": [],
   "source": [
    "plot_model(model, to_file='model.png')\n",
    "SVG(model_to_dot(model).create(prog='dot', format='svg'))"
   ]
  },
  {
   "cell_type": "code",
   "execution_count": null,
   "id": "f7103724",
   "metadata": {},
   "outputs": [],
   "source": [
    "train_model = model.fit(X_train, y_train,\n",
    "                  batch_size=BATCH_SIZE,\n",
    "                  epochs=NO_EPOCHS,\n",
    "                  verbose=1,\n",
    "                  validation_data=(X_validate, val_train2))"
   ]
  },
  {
   "cell_type": "code",
   "execution_count": null,
   "id": "82f274fa",
   "metadata": {},
   "outputs": [],
   "source": [
    "X_train.shape"
   ]
  },
  {
   "cell_type": "code",
   "execution_count": null,
   "id": "80e2b14e",
   "metadata": {},
   "outputs": [],
   "source": [
    "#16671\n",
    "#4168"
   ]
  },
  {
   "cell_type": "code",
   "execution_count": null,
   "id": "100640ae",
   "metadata": {},
   "outputs": [],
   "source": [
    "from sklearn.ensemble import RandomForestClassifier\n",
    "from sklearn.neural_network import MLPClassifier"
   ]
  },
  {
   "cell_type": "code",
   "execution_count": null,
   "id": "567cd0e9",
   "metadata": {},
   "outputs": [],
   "source": [
    "y_test"
   ]
  },
  {
   "cell_type": "code",
   "execution_count": null,
   "id": "7511082d",
   "metadata": {},
   "outputs": [],
   "source": [
    "model = RandomForestClassifier(n_estimators=64, n_jobs=-1) # 0.8827, 29 seconds\n",
    "# model = MLPClassifier(max_iter=700) # 0.8557, 190 seconds\n",
    "model.fit(X_train, y_train)\n",
    "\n",
    "# Predict\n",
    "y_pred = model.predict(X_test)\n",
    "\n",
    "# Print result\n",
    "print(accuracy_score(y_test, y_pred))\n",
    "\n"
   ]
  },
  {
   "cell_type": "code",
   "execution_count": null,
   "id": "2b13139c",
   "metadata": {},
   "outputs": [],
   "source": [
    "from subprocess import check_output\n",
    "\n",
    "import pandas as pd\n",
    "import numpy as np\n",
    "import warnings\n",
    "warnings.filterwarnings('ignore')\n",
    "import matplotlib.pyplot as plt\n",
    "from sklearn.model_selection import train_test_split\n",
    "import keras\n",
    "from keras.models import Sequential\n",
    "from keras.layers import Conv2D,MaxPooling2D,Dense,Flatten,Dropout\n",
    "\n",
    "from keras.callbacks import TensorBoard\n",
    "num_classes = 10\n",
    "epochs = 20"
   ]
  },
  {
   "cell_type": "code",
   "execution_count": null,
   "id": "e734bad1",
   "metadata": {},
   "outputs": [],
   "source": [
    "from tensorflow.keras.optimizers import Adam"
   ]
  },
  {
   "cell_type": "code",
   "execution_count": null,
   "id": "1965c991",
   "metadata": {},
   "outputs": [],
   "source": [
    "cnn_model = Sequential([\n",
    "    Conv2D(filters=32,kernel_size=3,activation='relu',input_shape = image_shape),\n",
    "    MaxPooling2D(pool_size=2) ,# down sampling the output instead of 28*28 it is 14*14\n",
    "    Dropout(0.2),\n",
    "    Flatten(), # flatten out the layers\n",
    "    Dense(32,activation='relu'),\n",
    "    Dense(10,activation = 'softmax')\n",
    "    \n",
    "])\n"
   ]
  },
  {
   "cell_type": "code",
   "execution_count": null,
   "id": "f78f431a",
   "metadata": {},
   "outputs": [],
   "source": [
    "cnn_model.compile(loss ='sparse_categorical_crossentropy', optimizer=Adam(lr=0.001),metrics =['accuracy'])"
   ]
  },
  {
   "cell_type": "code",
   "execution_count": null,
   "id": "af97f74b",
   "metadata": {},
   "outputs": [],
   "source": [
    "history = cnn_model.fit(\n",
    "    X_train,\n",
    "    y_train,\n",
    "    batch_size=4096,\n",
    "    epochs=75,\n",
    "    verbose=1,\n",
    "    validation_data=(val_test,val_test),\n",
    ")"
   ]
  },
  {
   "cell_type": "code",
   "execution_count": null,
   "id": "7a4e0914",
   "metadata": {},
   "outputs": [],
   "source": [
    "from subprocess import check_output\n",
    "\n",
    "import pandas as pd\n",
    "import numpy as np\n",
    "import warnings\n",
    "warnings.filterwarnings('ignore')\n",
    "import matplotlib.pyplot as plt\n",
    "from sklearn.model_selection import train_test_split\n",
    "import keras\n",
    "from keras.models import Sequential\n",
    "from keras.layers import Conv2D,MaxPooling2D,Dense,Flatten,Dropout\n",
    "\n",
    "from keras.callbacks import TensorBoard\n",
    "num_classes = 10\n",
    "epochs = 20"
   ]
  },
  {
   "cell_type": "code",
   "execution_count": null,
   "id": "e38c72fc",
   "metadata": {},
   "outputs": [],
   "source": [
    "from multi_imbalance.resampling.mdo import MDO\n",
    "\n",
    "mdo = MDO(k1_frac=0.3, maj_int_min={\n",
    "        'maj': [0, 8], # indices of majority classes\n",
    "        'min': [1,2,3,4,6] # indices of minority classes\n",
    "    })\n",
    "X_train_res, y_train_res = mdo.fit_transform(X_train, y_train)\n",
    "\n"
   ]
  },
  {
   "cell_type": "code",
   "execution_count": null,
   "id": "91f415ae",
   "metadata": {},
   "outputs": [],
   "source": []
  },
  {
   "cell_type": "code",
   "execution_count": null,
   "id": "716dcad6",
   "metadata": {
    "execution": {
     "iopub.execute_input": "2021-08-06T02:04:50.831882Z",
     "iopub.status.busy": "2021-08-06T02:04:50.831184Z",
     "iopub.status.idle": "2021-08-06T02:04:51.162409Z",
     "shell.execute_reply": "2021-08-06T02:04:51.161679Z",
     "shell.execute_reply.started": "2021-08-05T22:19:18.677404Z"
    },
    "papermill": {
     "duration": 0.392997,
     "end_time": "2021-08-06T02:04:51.162559",
     "exception": false,
     "start_time": "2021-08-06T02:04:50.769562",
     "status": "completed"
    },
    "tags": []
   },
   "outputs": [],
   "source": [
    "plt.figure()\n",
    "x1 = y_train\n",
    "plt.hist(x1, range = (0, 9), bins = 10, color = 'blue',\n",
    "            edgecolor = 'black')\n",
    "plt.xlabel('classes')\n",
    "plt.ylabel('number')\n",
    "plt.title('histogram for training labels')\n",
    "\n",
    "plt.figure()\n",
    "x2 = y_test\n",
    "plt.hist(x2, range = (0, 9), bins = 10, color = 'red',\n",
    "            edgecolor = 'black')\n",
    "plt.xlabel('classes')\n",
    "plt.ylabel('number')\n",
    "plt.title('histogram for testing labels')"
   ]
  },
  {
   "cell_type": "code",
   "execution_count": null,
   "id": "ded02f83",
   "metadata": {},
   "outputs": [],
   "source": [
    "counts=y_train.value_counts()\n",
    "counts"
   ]
  },
  {
   "cell_type": "code",
   "execution_count": null,
   "id": "f2e1bded",
   "metadata": {},
   "outputs": [],
   "source": [
    "from sklearn.neighbors import KNeighborsClassifier\n",
    "from scikitplot.metrics import plot_roc\n",
    "from scikitplot.metrics import plot_precision_recall\n",
    "from sklearn.tree import DecisionTreeClassifier\n",
    "model = DecisionTreeClassifier()\n",
    "model.fit(X_train, y_train)\n",
    "y_score = model.predict_proba(X_test)\n",
    "y_pred = model.predict(X_test)\n",
    "# Plot metrics \n",
    "plot_roc(y_test, y_score)\n",
    "plt.show()\n",
    "    \n",
    "plot_precision_recall(y_test, y_score)\n",
    "plt.show()"
   ]
  },
  {
   "cell_type": "code",
   "execution_count": null,
   "id": "cf190044",
   "metadata": {},
   "outputs": [],
   "source": [
    "import matplotlib.pyplot as plt\n",
    "count = y_train.value_counts()\n",
    "count.plot.bar()\n",
    "plt.ylabel('Number of records')\n",
    "plt.xlabel('Target Class')\n",
    "plt.show()"
   ]
  },
  {
   "cell_type": "code",
   "execution_count": null,
   "id": "93df8a79",
   "metadata": {},
   "outputs": [],
   "source": [
    "import plotly\n",
    "import plotly.offline as pyo\n",
    "import plotly.express as px\n",
    "import plotly.graph_objs as go\n",
    "d= pd.DataFrame(df['label'].value_counts())\n",
    "fig = px.pie(d,values='label',names=['0','Not Safe'],hole=0.4,opacity=0.6,\n",
    "            color_discrete_sequence=[colors_blue[3],colors_blue[4]],\n",
    "             labels={'label':'is_safe','is_safe':'No. Of Samples'})\n",
    "\n",
    "fig.add_annotation(text='We can resample the data<br> to get a balanced dataset',\n",
    "                   x=1.2,y=0.9,showarrow=False,font_size=12,opacity=0.7,font_family='monospace')\n",
    "fig.add_annotation(text='is_safe',\n",
    "                   x=0.5,y=0.5,showarrow=False,font_size=14,opacity=0.7,font_family='monospace')\n",
    "\n",
    "fig.update_layout(\n",
    "    font_family='monospace',\n",
    "    title=dict(text='Q. How many samples of water are Potable?',x=0.47,y=0.98,\n",
    "               font=dict(color=colors_blue[2],size=20)),\n",
    "    legend=dict(x=0.37,y=-0.05,orientation='h',traceorder='reversed'),\n",
    "    hoverlabel=dict(bgcolor='white'))\n",
    "\n",
    "fig.update_traces(textposition='outside', textinfo='percent+label')\n",
    "\n",
    "fig.show()\n",
    "\n"
   ]
  },
  {
   "cell_type": "code",
   "execution_count": null,
   "id": "8961d33e",
   "metadata": {},
   "outputs": [],
   "source": [
    "import numpy as np\n",
    "n_samples = count.median()\n",
    "#df['Area'] = df['Area'].astype('float') \n"
   ]
  },
  {
   "cell_type": "code",
   "execution_count": null,
   "id": "64677025",
   "metadata": {},
   "outputs": [],
   "source": [
    "n_samples"
   ]
  },
  {
   "cell_type": "code",
   "execution_count": null,
   "id": "80ab136e",
   "metadata": {},
   "outputs": [],
   "source": [
    "import warnings\n",
    "warnings.filterwarnings('ignore')\n"
   ]
  },
  {
   "cell_type": "code",
   "execution_count": null,
   "id": "2e91d4f4",
   "metadata": {},
   "outputs": [],
   "source": [
    "def sampling_strategy(X,y,n_samples, t='majority'):\n",
    "    target_classes = ''\n",
    "    if t == 'majority':\n",
    "        target_classes = y.value_counts() > n_samples\n",
    "    elif t == 'minority':\n",
    "        target_classes = y.value_counts() < n_samples\n",
    "    tc = target_classes[target_classes == True].index\n",
    "    #target_classes_all = y.value_counts().index\n",
    "    sampling_strategy = {}\n",
    "    for target in tc:\n",
    "        sampling_strategy[target] = n_samples\n",
    "    return sampling_strategy"
   ]
  },
  {
   "cell_type": "code",
   "execution_count": null,
   "id": "c875fae3",
   "metadata": {},
   "outputs": [],
   "source": [
    "from imblearn.under_sampling import ClusterCentroids\n",
    "under_sampler = ClusterCentroids(sampling_strategy=sampling_strategy(X_train,y_train,n_samples,t='majority'))\n"
   ]
  },
  {
   "cell_type": "code",
   "execution_count": null,
   "id": "4669c72b",
   "metadata": {},
   "outputs": [],
   "source": [
    "X_under, y_under = under_sampler.fit_resample(X_train, y_train)"
   ]
  },
  {
   "cell_type": "code",
   "execution_count": null,
   "id": "1354bc71",
   "metadata": {},
   "outputs": [],
   "source": [
    "from multi_imbalance.resampling.soup import SOUP\n",
    "\n",
    "soup = SOUP(maj_int_min={\n",
    "[0, 1, 2, 3, 4, 6, 8] # indices of majority classes\n",
    "        \n",
    "    })\n",
    "X_train_res, y_train_res = soup.fit_transform(X_train, y_train)\n",
    "plot_visual_comparision_datasets(X_train, y_train, X_train_res, y_train_res, 'lable', 'Resampled lable')"
   ]
  },
  {
   "cell_type": "code",
   "execution_count": null,
   "id": "207464c4",
   "metadata": {},
   "outputs": [],
   "source": [
    "from sklearn.utils import class_weight\n",
    "class_weight = compute_class_weight(\n",
    "                                        class_weight = \"balanced\",\n",
    "                                        classes = np.unique(train_classes),\n",
    "                                        y = train_classes                                                    \n",
    "                                    )\n",
    "class_weight = dict(zip(np.unique(train\n",
    "model = LogisticRegression(class_weight = class_weight)\n",
    "model.fit(X_train,y_train)\n",
    "# ['balanced', 'calculated balanced', 'normalized'] are hyperpaameters whic we can play with."
   ]
  },
  {
   "cell_type": "code",
   "execution_count": null,
   "id": "e7d91fde",
   "metadata": {},
   "outputs": [],
   "source": [
    "np.unique(y_train)"
   ]
  },
  {
   "cell_type": "code",
   "execution_count": null,
   "id": "7eddbc06",
   "metadata": {},
   "outputs": [],
   "source": [
    "pip install multi-imbalance"
   ]
  },
  {
   "cell_type": "code",
   "execution_count": null,
   "id": "7e6e8440",
   "metadata": {},
   "outputs": [],
   "source": [
    "X_train.info()"
   ]
  },
  {
   "cell_type": "code",
   "execution_count": null,
   "id": "d8251531",
   "metadata": {},
   "outputs": [],
   "source": [
    "from imblearn.over_sampling import SMOTE\n",
    "over_sampler = SMOTE(sampling_strategy=sampling_strategy(X_under, y_under,n_samples, t='minority'),k_neighbors=2)\n",
    "X_bal, y_bal = over_sampler.fit_resample(X_under, y_under)"
   ]
  },
  {
   "cell_type": "code",
   "execution_count": null,
   "id": "f778309b",
   "metadata": {},
   "outputs": [],
   "source": [
    "from imblearn.over_sampling import RandomOverSampler\n",
    "reshaped_X = X.reshape(X.shape[0],-1)\n",
    "\n",
    "#oversampling\n",
    "oversample = RandomOverSampler()\n",
    "oversampled_X, oversampled_y  = oversample.fit_resample(reshaped_X , y)\n",
    "\n",
    "# reshaping X back to the first dims\n",
    "new_X = oversampled_X.reshape(-1,28,28,3)"
   ]
  },
  {
   "cell_type": "markdown",
   "id": "5dd48e91",
   "metadata": {
    "papermill": {
     "duration": 0.027195,
     "end_time": "2021-08-06T02:04:40.112063",
     "exception": false,
     "start_time": "2021-08-06T02:04:40.084868",
     "status": "completed"
    },
    "tags": []
   },
   "source": [
    "# **Loading, visualising the dataset, and preparing the data**"
   ]
  },
  {
   "cell_type": "code",
   "execution_count": null,
   "id": "cb4d93b3",
   "metadata": {
    "execution": {
     "iopub.execute_input": "2021-08-06T02:04:40.170860Z",
     "iopub.status.busy": "2021-08-06T02:04:40.170132Z",
     "iopub.status.idle": "2021-08-06T02:04:48.125677Z",
     "shell.execute_reply": "2021-08-06T02:04:48.126176Z",
     "shell.execute_reply.started": "2021-08-06T00:09:34.519295Z"
    },
    "papermill": {
     "duration": 7.987536,
     "end_time": "2021-08-06T02:04:48.126361",
     "exception": false,
     "start_time": "2021-08-06T02:04:40.138825",
     "status": "completed"
    },
    "tags": []
   },
   "outputs": [],
   "source": [
    "train_df = pd.read_csv('fashion-mnist_train.csv')\n",
    "test_df = pd.read_csv('fashion-mnist_test.csv')"
   ]
  },
  {
   "cell_type": "code",
   "execution_count": null,
   "id": "90d7c214",
   "metadata": {},
   "outputs": [],
   "source": [
    "train_df"
   ]
  },
  {
   "cell_type": "code",
   "execution_count": null,
   "id": "8662ba31",
   "metadata": {},
   "outputs": [],
   "source": []
  },
  {
   "cell_type": "code",
   "execution_count": null,
   "id": "5e8439fd",
   "metadata": {},
   "outputs": [],
   "source": [
    "u=df.label.unique()\n"
   ]
  },
  {
   "cell_type": "code",
   "execution_count": null,
   "id": "a1a13624",
   "metadata": {},
   "outputs": [],
   "source": [
    "u.sort()\n",
    "u"
   ]
  },
  {
   "cell_type": "code",
   "execution_count": null,
   "id": "e3bec141",
   "metadata": {},
   "outputs": [],
   "source": [
    "\n",
    "train_f = X_train\n",
    "\n",
    "test_features=X_test\n",
    "train_l=y_train\n",
    "test_labels=y_test\n",
    "train_features, val_features, train_labels, val_labels = train_test_split(train_f, train_l, test_size=0.25, random_state=42)\n",
    "print(\"shape of training features : \"+ str(train_features.shape))\n",
    "print(\"shape of training labels\" + str(train_labels.shape))\n",
    "\n",
    "print(\"shape of valuation features \" + str(val_features.shape))\n",
    "print(\"shape of valuation labels\" + str(val_labels.shape))\n",
    "\n",
    "print(\"shape of testing features\" + str(test_features.shape))\n",
    "print(\"shape of testing labels\" + str(test_labels.shape))"
   ]
  },
  {
   "cell_type": "markdown",
   "id": "3b15df05",
   "metadata": {
    "papermill": {
     "duration": 0.026664,
     "end_time": "2021-08-06T02:04:48.179865",
     "exception": false,
     "start_time": "2021-08-06T02:04:48.153201",
     "status": "completed"
    },
    "tags": []
   },
   "source": []
  },
  {
   "cell_type": "code",
   "execution_count": null,
   "id": "f1c4c6e0",
   "metadata": {
    "execution": {
     "iopub.execute_input": "2021-08-06T02:04:48.238262Z",
     "iopub.status.busy": "2021-08-06T02:04:48.237564Z",
     "iopub.status.idle": "2021-08-06T02:04:49.271177Z",
     "shell.execute_reply": "2021-08-06T02:04:49.271686Z",
     "shell.execute_reply.started": "2021-08-06T00:10:31.192913Z"
    },
    "papermill": {
     "duration": 1.063735,
     "end_time": "2021-08-06T02:04:49.271858",
     "exception": false,
     "start_time": "2021-08-06T02:04:48.208123",
     "status": "completed"
    },
    "tags": []
   },
   "outputs": [],
   "source": [
    "a = train_df\n",
    "train_f = a.drop('label',1)\n",
    "b=test_df\n",
    "test_features=b.drop('label',1)\n",
    "train_l=a['label']\n",
    "test_labels=b['label']\n",
    "train_features, val_features, train_labels, val_labels = train_test_split(train_f, train_l, test_size=0.2, random_state=42)\n",
    "print(\"shape of training features : \"+ str(train_features.shape))\n",
    "print(\"shape of training labels\" + str(train_labels.shape))\n",
    "\n",
    "print(\"shape of valuation features \" + str(val_features.shape))\n",
    "print(\"shape of valuation labels\" + str(val_labels.shape))\n",
    "\n",
    "print(\"shape of testing features\" + str(test_features.shape))\n",
    "print(\"shape of testing labels\" + str(test_labels.shape))"
   ]
  },
  {
   "cell_type": "code",
   "execution_count": null,
   "id": "c10946b5",
   "metadata": {},
   "outputs": [],
   "source": [
    "df_train_y = y_train\n",
    "y_test = y_test"
   ]
  },
  {
   "cell_type": "code",
   "execution_count": null,
   "id": "67f12289",
   "metadata": {},
   "outputs": [],
   "source": [
    "df_train_x = X_train/256\n",
    "x_test =X_test/256"
   ]
  },
  {
   "cell_type": "code",
   "execution_count": null,
   "id": "104027c0",
   "metadata": {},
   "outputs": [],
   "source": [
    "np.random.seed(0)\n",
    "\n",
    "valid2_idx = np.random.choice(7536,2512,replace=False)\n",
    "valid1_idx = np.random.choice(list(set(range(7536)) - set(valid2_idx)), 2512, replace=False)\n",
    "train_idx = list(set(range(7536)) - set(valid1_idx) - set(valid2_idx))\n",
    "\n",
    "x_train = df_train_x.iloc[train_idx,:]\n",
    "y_train = df_train_y.iloc[train_idx]\n",
    "\n",
    "x_valid1 = df_train_x.iloc[valid1_idx,:]\n",
    "y_valid1 = df_train_y.iloc[valid1_idx]\n",
    "\n",
    "x_valid2 = df_train_x.iloc[valid2_idx,:]\n",
    "y_valid2 = df_train_y.iloc[valid2_idx]"
   ]
  },
  {
   "cell_type": "code",
   "execution_count": null,
   "id": "5481b888",
   "metadata": {},
   "outputs": [],
   "source": [
    "from sklearn.ensemble import RandomForestClassifier\n",
    "from sklearn.metrics import confusion_matrix"
   ]
  },
  {
   "cell_type": "code",
   "execution_count": null,
   "id": "4374bb90",
   "metadata": {},
   "outputs": [],
   "source": [
    "RF_model = RandomForestClassifier(n_estimators=100, max_depth=50, random_state=42)\n",
    "RF_model.fit(x_train, y_train)"
   ]
  },
  {
   "cell_type": "code",
   "execution_count": null,
   "id": "2f81a2e8",
   "metadata": {},
   "outputs": [],
   "source": [
    "confusion_matrix(RF_model.predict(x_train), y_train)\n"
   ]
  },
  {
   "cell_type": "code",
   "execution_count": null,
   "id": "ab788b3b",
   "metadata": {},
   "outputs": [],
   "source": [
    "RF_model_train_acc = (RF_model.predict(x_train) == y_train).mean()\n",
    "print(\"Training Accuracy =\", RF_model_train_acc)"
   ]
  },
  {
   "cell_type": "code",
   "execution_count": null,
   "id": "4ed85b89",
   "metadata": {},
   "outputs": [],
   "source": [
    "confusion_matrix(RF_model.predict(x_test),y_test)"
   ]
  },
  {
   "cell_type": "code",
   "execution_count": null,
   "id": "a0f0a7f3",
   "metadata": {},
   "outputs": [],
   "source": [
    "import numpy as np\n",
    "import seaborn as sns\n",
    "import pandas as pd\n",
    "import tensorflow as tf\n",
    "from sklearn.metrics import confusion_matrix\n",
    "import matplotlib.pyplot as plt\n",
    "from sklearn.model_selection import train_test_split\n",
    "from sklearn.metrics import classification_report\n",
    "from tensorflow.python import keras\n",
    "from tensorflow.python.keras.models import Sequential\n",
    "from keras.layers import Dense, Conv2D, Activation, MaxPool2D, Flatten, Dropout, BatchNormalization\n",
    "\n",
    "from tensorflow.keras.preprocessing.image import ImageDataGenerator\n",
    "\n"
   ]
  },
  {
   "cell_type": "code",
   "execution_count": null,
   "id": "9a9767e3",
   "metadata": {},
   "outputs": [],
   "source": [
    "y_pred = RF_model.predict(x_test)\n",
    "y_pred_classes = np.argmax(y_pred)\n",
    "y_true = np.argmax(y_test)\n",
    "confusion_matrix(RF_model.predict(x_test),y_test)\n",
    "\n",
    "f,ax = plt.subplots(figsize = (12,12))\n",
    "sns.heatmap(confusion_matrix(RF_model.predict(x_test),y_test), annot=True, linewidths=0.1, cmap = \"gist_yarg_r\", linecolor=\"white\", fmt='.0f', ax=ax)\n",
    "plt.xlabel(\"Predicted Label\")\n",
    "plt.ylabel(\"True Label\")\n",
    "plt.title(\"Confusion Matrix\")\n",
    "plt.show()"
   ]
  },
  {
   "cell_type": "code",
   "execution_count": null,
   "id": "5ce5e824",
   "metadata": {},
   "outputs": [],
   "source": [
    "RF_param_grid = {\"n_neighbors\": np.linspace(1,19,10, dtype = int).tolist(),\n",
    "                 \"weights\": [\"uniform\",\"distance\"],\n",
    "                 \"metric\":[\"euclidean\",\"manhattan\"]}\n",
    "\n",
    "knn = KNeighborsClassifier()\n",
    "clf = RandomizedSearchCV(knn, param_distributions=knn_param_grid, cv = 10, \n",
    "                   scoring = \"accuracy\", n_jobs = -1,verbose = 1)\n",
    "clf.fit(X_train_scaled,y_train)\n",
    "y_pred_knn = clf.predict(X_val_scaled)\n",
    "cm_random_knn = confusion_matrix(y_val,y_pred_knn)\n",
    "acc_random_knn = accuracy_score(y_val, y_pred_knn)\n",
    "fscore = f1_score(y_val,y_pred_knn)\n",
    "result.append(acc_random_knn)\n",
    "\n",
    "print('\\n')\n",
    "print(\"RESULTS :\")\n",
    "print(\"KNN Model Acc : \",round(acc_random_knn,2))\n",
    "print(\"KNN Model F1-score : \",round(fscore,2))\n",
    "print(\"Classification Report :\\n\",classification_report(y_val,y_pred_knn))\n",
    "print('\\n')\n",
    "plot_confusion_matrix(y_val, y_pred_knn)\n",
    "print('\\n')\n",
    "plot_roc_auc(y_val,y_pred_knn)"
   ]
  },
  {
   "cell_type": "code",
   "execution_count": null,
   "id": "bcfebdcb",
   "metadata": {},
   "outputs": [],
   "source": [
    "import numpy as np\n",
    "import pandas as pd\n",
    "from scipy import stats\n",
    "import seaborn as sns\n",
    "import matplotlib.pyplot as plt\n",
    "import plotly.express as px\n",
    "import plotly.graph_objects as go\n",
    "import plotly.figure_factory as ff\n",
    "from plotly.subplots import make_subplots\n",
    "from plotly.offline import init_notebook_mode, iplot\n",
    "init_notebook_mode(connected=True)\n",
    "\n",
    "import warnings\n",
    "warnings.filterwarnings(\"ignore\")\n",
    "\n",
    "from sklearn.model_selection import train_test_split\n",
    "from sklearn.preprocessing import StandardScaler\n",
    "from sklearn.metrics import accuracy_score\n",
    "\n",
    "from sklearn.svm import SVC\n",
    "from sklearn.neighbors import KNeighborsClassifier\n",
    "from sklearn.linear_model import LogisticRegression\n",
    "\n",
    "\n",
    "from sklearn.calibration import CalibratedClassifierCV\n",
    "\n",
    "from sklearn.ensemble import RandomForestClassifier\n",
    "from sklearn.naive_bayes import GaussianNB\n",
    "from sklearn.naive_bayes import BernoulliNB\n",
    "from sklearn.model_selection import GridSearchCV, RepeatedKFold, RandomizedSearchCV\n",
    "from sklearn.model_selection import StratifiedKFold\n",
    "from sklearn.metrics import auc, accuracy_score, confusion_matrix, f1_score, classification_report\n",
    "\n",
    "\n",
    "from sklearn.model_selection import train_test_split"
   ]
  },
  {
   "cell_type": "code",
   "execution_count": null,
   "id": "7b414ff5",
   "metadata": {},
   "outputs": [],
   "source": [
    "RF_model_valid1_acc = (RF_model.predict(x_test) == y_test).mean()\n",
    "print(\"Validation Accuracy =\", RF_model_valid1_acc)"
   ]
  },
  {
   "cell_type": "code",
   "execution_count": null,
   "id": "06118073",
   "metadata": {},
   "outputs": [],
   "source": [
    "RF_model_valid2_acc = (RF_model.predict(x_valid2) == y_valid2).mean()\n",
    "print(\"Validation Accuracy =\", RF_model_valid2_acc)"
   ]
  },
  {
   "cell_type": "markdown",
   "id": "27cd68c2",
   "metadata": {
    "papermill": {
     "duration": 0.026634,
     "end_time": "2021-08-06T02:04:49.325541",
     "exception": false,
     "start_time": "2021-08-06T02:04:49.298907",
     "status": "completed"
    },
    "tags": []
   },
   "source": [
    "Transforming the Dataframes into arrays"
   ]
  },
  {
   "cell_type": "code",
   "execution_count": null,
   "id": "cf08c9f4",
   "metadata": {
    "execution": {
     "iopub.execute_input": "2021-08-06T02:04:49.385068Z",
     "iopub.status.busy": "2021-08-06T02:04:49.384359Z",
     "iopub.status.idle": "2021-08-06T02:04:49.386431Z",
     "shell.execute_reply": "2021-08-06T02:04:49.386906Z",
     "shell.execute_reply.started": "2021-08-06T00:10:35.317657Z"
    },
    "papermill": {
     "duration": 0.034603,
     "end_time": "2021-08-06T02:04:49.387086",
     "exception": false,
     "start_time": "2021-08-06T02:04:49.352483",
     "status": "completed"
    },
    "tags": []
   },
   "outputs": [],
   "source": [
    "train_features = train_f.to_numpy()\n",
    "train_labels = train_l.to_numpy()\n",
    "val_features = val_features.to_numpy()\n",
    "val_labels = val_labels.to_numpy()\n",
    "test_features = test_features.to_numpy()\n",
    "test_labels = test_labels.to_numpy()\n",
    "    "
   ]
  },
  {
   "cell_type": "markdown",
   "id": "5810007f",
   "metadata": {
    "papermill": {
     "duration": 0.026964,
     "end_time": "2021-08-06T02:04:49.442989",
     "exception": false,
     "start_time": "2021-08-06T02:04:49.416025",
     "status": "completed"
    },
    "tags": []
   },
   "source": [
    "**Let's see what are the features and the labels**"
   ]
  },
  {
   "cell_type": "markdown",
   "id": "f4d42525",
   "metadata": {
    "papermill": {
     "duration": 0.027212,
     "end_time": "2021-08-06T02:04:49.497478",
     "exception": false,
     "start_time": "2021-08-06T02:04:49.470266",
     "status": "completed"
    },
    "tags": []
   },
   "source": [
    "Let's visualise some of the images that we are trying to classify"
   ]
  },
  {
   "cell_type": "code",
   "execution_count": null,
   "id": "8e7cfac1",
   "metadata": {
    "execution": {
     "iopub.execute_input": "2021-08-06T02:04:49.556129Z",
     "iopub.status.busy": "2021-08-06T02:04:49.555430Z",
     "iopub.status.idle": "2021-08-06T02:04:50.739291Z",
     "shell.execute_reply": "2021-08-06T02:04:50.739797Z",
     "shell.execute_reply.started": "2021-08-06T00:11:04.162286Z"
    },
    "papermill": {
     "duration": 1.214266,
     "end_time": "2021-08-06T02:04:50.739963",
     "exception": false,
     "start_time": "2021-08-06T02:04:49.525697",
     "status": "completed"
    },
    "tags": []
   },
   "outputs": [],
   "source": [
    "\n",
    "plt.figure(figsize=(10, 10))\n",
    "for i in range(36):\n",
    "    plt.subplot(6,6,i+1)\n",
    "    plt.xticks([])\n",
    "    plt.yticks([])\n",
    "    plt.imshow(train_features[i].reshape(28,28))    #imshow  takes an array ( with dimension = 2, RGB or B/W) and gives you the image that corresponds to it\n",
    "plt.show()   "
   ]
  },
  {
   "cell_type": "code",
   "execution_count": null,
   "id": "fdd4d635",
   "metadata": {},
   "outputs": [],
   "source": [
    "np.random.seed(0)\n",
    "\n",
    "valid2_idx = np.random.choice(60000,10000,replace=False)\n",
    "valid1_idx = np.random.choice(list(set(range(60000)) - set(valid2_idx)), 10000, replace=False)\n",
    "train_idx = list(set(range(60000)) - set(valid1_idx) - set(valid2_idx))\n",
    "\n",
    "x_train = train_features.iloc[train_idx,:]\n",
    "y_train = train_labels.iloc[train_idx]\n",
    "\n",
    "x_valid1 = train_features.iloc[valid1_idx,:]\n",
    "y_valid1 =train_labels.iloc[valid1_idx]\n",
    "\n",
    "x_valid2 = train_features.iloc[valid2_idx,:]\n",
    "y_val"
   ]
  },
  {
   "cell_type": "code",
   "execution_count": null,
   "id": "efb0b1a9",
   "metadata": {},
   "outputs": [],
   "source": [
    "from sklearn.ensemble import RandomForestClassifier\n",
    "from sklearn.metrics import confusion_matrix"
   ]
  },
  {
   "cell_type": "code",
   "execution_count": null,
   "id": "c127519d",
   "metadata": {},
   "outputs": [],
   "source": [
    "RF_model = RandomForestClassifier(n_estimators=100, max_depth=50, random_state=42)\n",
    "RF_model.fit(train_features,train_labels)"
   ]
  },
  {
   "cell_type": "markdown",
   "id": "c4e2722a",
   "metadata": {
    "papermill": {
     "duration": 0.031056,
     "end_time": "2021-08-06T02:04:51.225203",
     "exception": false,
     "start_time": "2021-08-06T02:04:51.194147",
     "status": "completed"
    },
    "tags": []
   },
   "source": [
    "**Scaling the data**"
   ]
  },
  {
   "cell_type": "code",
   "execution_count": null,
   "id": "21ecdfc8",
   "metadata": {},
   "outputs": [],
   "source": [
    "confusion_matrix(RF_model.predict(train_features), train_labels)"
   ]
  },
  {
   "cell_type": "code",
   "execution_count": null,
   "id": "23e23984",
   "metadata": {},
   "outputs": [],
   "source": [
    "RF_model_train_acc = (RF_model.predict(train_features) ==  train_labels).mean()\n",
    "print(\"Training Accuracy =\", RF_model_train_acc)"
   ]
  },
  {
   "cell_type": "code",
   "execution_count": null,
   "id": "25a69055",
   "metadata": {},
   "outputs": [],
   "source": [
    "confusion_matrix(RF_model.predict(val_features),val_labels )"
   ]
  },
  {
   "cell_type": "code",
   "execution_count": null,
   "id": "688361fd",
   "metadata": {},
   "outputs": [],
   "source": [
    "RF_model_valid1_acc = (RF_model.predict(val_features) == val_labels).mean()\n",
    "print(\"Validation Accuracy =\", RF_model_valid1_acc)"
   ]
  },
  {
   "cell_type": "code",
   "execution_count": null,
   "id": "ea26ab36",
   "metadata": {
    "execution": {
     "iopub.execute_input": "2021-08-06T02:04:51.293398Z",
     "iopub.status.busy": "2021-08-06T02:04:51.292733Z",
     "iopub.status.idle": "2021-08-06T02:04:52.986968Z",
     "shell.execute_reply": "2021-08-06T02:04:52.986303Z",
     "shell.execute_reply.started": "2021-08-06T00:11:10.696501Z"
    },
    "papermill": {
     "duration": 1.730587,
     "end_time": "2021-08-06T02:04:52.987109",
     "exception": false,
     "start_time": "2021-08-06T02:04:51.256522",
     "status": "completed"
    },
    "tags": []
   },
   "outputs": [],
   "source": [
    "X=StandardScaler().fit_transform(train_features)\n",
    "X_test=StandardScaler().fit_transform(test_features)"
   ]
  },
  {
   "cell_type": "markdown",
   "id": "b17af97a",
   "metadata": {
    "papermill": {
     "duration": 0.031538,
     "end_time": "2021-08-06T02:04:53.049782",
     "exception": false,
     "start_time": "2021-08-06T02:04:53.018244",
     "status": "completed"
    },
    "tags": []
   },
   "source": [
    "# **Algorithm number 1 : Support Vector Machine**"
   ]
  },
  {
   "cell_type": "markdown",
   "id": "d8eb81ff",
   "metadata": {
    "papermill": {
     "duration": 0.032123,
     "end_time": "2021-08-06T02:04:53.113309",
     "exception": false,
     "start_time": "2021-08-06T02:04:53.081186",
     "status": "completed"
    },
    "tags": []
   },
   "source": [
    "We scale the training data and feed it to the SVC algorithm"
   ]
  },
  {
   "cell_type": "code",
   "execution_count": null,
   "id": "54f5580d",
   "metadata": {
    "execution": {
     "iopub.execute_input": "2021-08-06T02:04:53.180290Z",
     "iopub.status.busy": "2021-08-06T02:04:53.179655Z",
     "iopub.status.idle": "2021-08-06T02:15:53.939475Z",
     "shell.execute_reply": "2021-08-06T02:15:53.940024Z",
     "shell.execute_reply.started": "2021-08-06T00:14:45.941993Z"
    },
    "papermill": {
     "duration": 660.795109,
     "end_time": "2021-08-06T02:15:53.940215",
     "exception": false,
     "start_time": "2021-08-06T02:04:53.145106",
     "status": "completed"
    },
    "tags": []
   },
   "outputs": [],
   "source": [
    "model2=svm.SVC(kernel='poly',degree=2)\n",
    "model2.fit(X,train_labels)"
   ]
  },
  {
   "cell_type": "markdown",
   "id": "f62d55c0",
   "metadata": {
    "papermill": {
     "duration": 0.031036,
     "end_time": "2021-08-06T02:15:54.002503",
     "exception": false,
     "start_time": "2021-08-06T02:15:53.971467",
     "status": "completed"
    },
    "tags": []
   },
   "source": [
    "We evaluate the accuracy of our model"
   ]
  },
  {
   "cell_type": "code",
   "execution_count": null,
   "id": "7389edbf",
   "metadata": {
    "execution": {
     "iopub.execute_input": "2021-08-06T02:15:54.070322Z",
     "iopub.status.busy": "2021-08-06T02:15:54.069673Z",
     "iopub.status.idle": "2021-08-06T02:19:58.548141Z",
     "shell.execute_reply": "2021-08-06T02:19:58.547330Z",
     "shell.execute_reply.started": "2021-08-06T00:26:51.207585Z"
    },
    "papermill": {
     "duration": 244.514291,
     "end_time": "2021-08-06T02:19:58.548298",
     "exception": false,
     "start_time": "2021-08-06T02:15:54.034007",
     "status": "completed"
    },
    "tags": []
   },
   "outputs": [],
   "source": [
    "\n",
    "model2.predict([X_test[0]])\n",
    "y1 = test_labels\n",
    "y2 = model2.predict(X_test)\n"
   ]
  },
  {
   "cell_type": "code",
   "execution_count": null,
   "id": "0c5b9121",
   "metadata": {
    "execution": {
     "iopub.execute_input": "2021-08-06T02:19:58.618309Z",
     "iopub.status.busy": "2021-08-06T02:19:58.617215Z",
     "iopub.status.idle": "2021-08-06T02:19:58.622653Z",
     "shell.execute_reply": "2021-08-06T02:19:58.623346Z",
     "shell.execute_reply.started": "2021-08-06T00:45:37.008736Z"
    },
    "papermill": {
     "duration": 0.042989,
     "end_time": "2021-08-06T02:19:58.623656",
     "exception": false,
     "start_time": "2021-08-06T02:19:58.580667",
     "status": "completed"
    },
    "tags": []
   },
   "outputs": [],
   "source": [
    "print('the accuracy of SVM is : ' + str(accuracy_score(y1, y2, normalize=True)))"
   ]
  },
  {
   "cell_type": "markdown",
   "id": "478802f7",
   "metadata": {
    "papermill": {
     "duration": 0.031593,
     "end_time": "2021-08-06T02:19:58.688158",
     "exception": false,
     "start_time": "2021-08-06T02:19:58.656565",
     "status": "completed"
    },
    "tags": []
   },
   "source": [
    "> the accuracy of SVM is : 0.8901"
   ]
  },
  {
   "cell_type": "markdown",
   "id": "d9ba8b54",
   "metadata": {
    "papermill": {
     "duration": 0.031841,
     "end_time": "2021-08-06T02:19:58.753349",
     "exception": false,
     "start_time": "2021-08-06T02:19:58.721508",
     "status": "completed"
    },
    "tags": []
   },
   "source": [
    "# **Algorithm number 2 : K-nearest neighbours**\n"
   ]
  },
  {
   "cell_type": "code",
   "execution_count": null,
   "id": "6f6d8d02",
   "metadata": {
    "execution": {
     "iopub.execute_input": "2021-08-06T02:19:58.823030Z",
     "iopub.status.busy": "2021-08-06T02:19:58.822283Z",
     "iopub.status.idle": "2021-08-06T02:34:36.749138Z",
     "shell.execute_reply": "2021-08-06T02:34:36.748510Z",
     "shell.execute_reply.started": "2021-08-06T00:46:31.834201Z"
    },
    "papermill": {
     "duration": 877.963743,
     "end_time": "2021-08-06T02:34:36.749292",
     "exception": false,
     "start_time": "2021-08-06T02:19:58.785549",
     "status": "completed"
    },
    "tags": []
   },
   "outputs": [],
   "source": [
    "model1=KNeighborsClassifier(n_neighbors=3) # we choose n=3\n",
    "model1.fit(X,train_labels)\n",
    "y1 = test_labels\n",
    "y2_K = model1.predict(X_test)\n"
   ]
  },
  {
   "cell_type": "code",
   "execution_count": null,
   "id": "00996b20",
   "metadata": {
    "execution": {
     "iopub.execute_input": "2021-08-06T02:34:36.818482Z",
     "iopub.status.busy": "2021-08-06T02:34:36.817855Z",
     "iopub.status.idle": "2021-08-06T02:34:36.822398Z",
     "shell.execute_reply": "2021-08-06T02:34:36.821918Z",
     "shell.execute_reply.started": "2021-08-06T01:02:42.24079Z"
    },
    "papermill": {
     "duration": 0.040753,
     "end_time": "2021-08-06T02:34:36.822533",
     "exception": false,
     "start_time": "2021-08-06T02:34:36.781780",
     "status": "completed"
    },
    "tags": []
   },
   "outputs": [],
   "source": [
    "print(\"the accuracy of KNN is : \" + str(accuracy_score(y1, y2_K, normalize=True)))"
   ]
  },
  {
   "cell_type": "markdown",
   "id": "7a9b272e",
   "metadata": {
    "papermill": {
     "duration": 0.031778,
     "end_time": "2021-08-06T02:34:36.887559",
     "exception": false,
     "start_time": "2021-08-06T02:34:36.855781",
     "status": "completed"
    },
    "tags": []
   },
   "source": [
    "> the accuracy of KNN is : 0.8532"
   ]
  },
  {
   "cell_type": "markdown",
   "id": "5293811c",
   "metadata": {
    "papermill": {
     "duration": 0.031698,
     "end_time": "2021-08-06T02:34:36.952790",
     "exception": false,
     "start_time": "2021-08-06T02:34:36.921092",
     "status": "completed"
    },
    "tags": []
   },
   "source": [
    "# **Algorithm number 3 : Fully connected neural network**"
   ]
  },
  {
   "cell_type": "code",
   "execution_count": null,
   "id": "3ce5c360",
   "metadata": {
    "execution": {
     "iopub.execute_input": "2021-08-06T02:34:37.025916Z",
     "iopub.status.busy": "2021-08-06T02:34:37.025190Z",
     "iopub.status.idle": "2021-08-06T02:40:35.700125Z",
     "shell.execute_reply": "2021-08-06T02:40:35.699497Z",
     "shell.execute_reply.started": "2021-08-05T22:23:31.901045Z"
    },
    "papermill": {
     "duration": 358.71537,
     "end_time": "2021-08-06T02:40:35.700274",
     "exception": false,
     "start_time": "2021-08-06T02:34:36.984904",
     "status": "completed"
    },
    "tags": []
   },
   "outputs": [],
   "source": [
    "model4=tf.keras.Sequential()\n",
    "model4.add(tf.keras.layers.Dense(150))\n",
    "model4.add(tf.keras.layers.Dense(10))\n",
    "\n",
    "model4.compile(optimizer='adam',\n",
    "              loss=tf.keras.losses.SparseCategoricalCrossentropy(from_logits=True),\n",
    "              metrics=['accuracy'])\n",
    "\n",
    "log_dir = \"logs/fit/\" + datetime.datetime.now().strftime(\"%Y%m%d-%H%M%S\")\n",
    "tensorboard_callback = tf.keras.callbacks.TensorBoard(log_dir=log_dir, histogram_freq=1)\n",
    "\n",
    "history1 = model4.fit(X,train_labels,\n",
    "               epochs=20,\n",
    "               callbacks=[tensorboard_callback],\n",
    "               validation_data=(X_test,test_labels))\n",
    "\n"
   ]
  },
  {
   "cell_type": "code",
   "execution_count": null,
   "id": "a281bbe2",
   "metadata": {
    "execution": {
     "iopub.execute_input": "2021-08-06T02:40:39.469822Z",
     "iopub.status.busy": "2021-08-06T02:40:39.469179Z",
     "iopub.status.idle": "2021-08-06T02:40:41.245893Z",
     "shell.execute_reply": "2021-08-06T02:40:41.245146Z",
     "shell.execute_reply.started": "2021-08-05T22:58:44.763832Z"
    },
    "papermill": {
     "duration": 3.661532,
     "end_time": "2021-08-06T02:40:41.246044",
     "exception": false,
     "start_time": "2021-08-06T02:40:37.584512",
     "status": "completed"
    },
    "tags": []
   },
   "outputs": [],
   "source": [
    "score2 = model4.evaluate(X_test, test_labels, verbose=0)"
   ]
  },
  {
   "cell_type": "code",
   "execution_count": null,
   "id": "03fc0e07",
   "metadata": {
    "execution": {
     "iopub.execute_input": "2021-08-06T02:40:45.062633Z",
     "iopub.status.busy": "2021-08-06T02:40:45.061913Z",
     "iopub.status.idle": "2021-08-06T02:40:45.066196Z",
     "shell.execute_reply": "2021-08-06T02:40:45.066871Z",
     "shell.execute_reply.started": "2021-08-05T22:59:35.64506Z"
    },
    "papermill": {
     "duration": 1.931617,
     "end_time": "2021-08-06T02:40:45.067242",
     "exception": false,
     "start_time": "2021-08-06T02:40:43.135625",
     "status": "completed"
    },
    "tags": []
   },
   "outputs": [],
   "source": [
    "print('the accuracy of NN is : ' + str(score2[1]))"
   ]
  },
  {
   "cell_type": "markdown",
   "id": "b6ffcaff",
   "metadata": {
    "papermill": {
     "duration": 1.872449,
     "end_time": "2021-08-06T02:40:48.815989",
     "exception": false,
     "start_time": "2021-08-06T02:40:46.943540",
     "status": "completed"
    },
    "tags": []
   },
   "source": [
    "> the accuracy of NN is : 0.8461999893188477"
   ]
  },
  {
   "cell_type": "code",
   "execution_count": null,
   "id": "0abed219",
   "metadata": {
    "execution": {
     "iopub.execute_input": "2021-08-06T02:40:52.668382Z",
     "iopub.status.busy": "2021-08-06T02:40:52.667731Z",
     "iopub.status.idle": "2021-08-06T02:40:52.997129Z",
     "shell.execute_reply": "2021-08-06T02:40:52.996575Z",
     "shell.execute_reply.started": "2021-08-05T22:32:14.376392Z"
    },
    "papermill": {
     "duration": 2.225474,
     "end_time": "2021-08-06T02:40:52.997267",
     "exception": false,
     "start_time": "2021-08-06T02:40:50.771793",
     "status": "completed"
    },
    "tags": []
   },
   "outputs": [],
   "source": [
    "accuracy1 = history1.history['accuracy']\n",
    "val_accuracy1 = history1.history['val_accuracy']\n",
    "loss1 = history1.history['loss']\n",
    "val_loss1 = history1.history['val_loss']\n",
    "epochs1 = range(len(accuracy1))\n",
    "plt.plot(epochs1, accuracy1, 'bo', label='Training accuracy')\n",
    "plt.plot(epochs1, val_accuracy1, 'b', label='Validation accuracy')\n",
    "plt.title('Training and validation accuracy')\n",
    "plt.legend()\n",
    "plt.figure()\n",
    "plt.plot(epochs1, loss1, 'bo', label='Training loss')\n",
    "plt.plot(epochs1, val_loss1, 'b', label='Validation loss')\n",
    "plt.title('Training and validation loss')\n",
    "plt.legend()\n",
    "plt.show()"
   ]
  },
  {
   "cell_type": "markdown",
   "id": "6222b532",
   "metadata": {
    "papermill": {
     "duration": 1.876273,
     "end_time": "2021-08-06T02:40:56.815251",
     "exception": false,
     "start_time": "2021-08-06T02:40:54.938978",
     "status": "completed"
    },
    "tags": []
   },
   "source": []
  },
  {
   "cell_type": "markdown",
   "id": "4737a836",
   "metadata": {
    "papermill": {
     "duration": 1.886437,
     "end_time": "2021-08-06T02:41:00.642391",
     "exception": false,
     "start_time": "2021-08-06T02:40:58.755954",
     "status": "completed"
    },
    "tags": []
   },
   "source": [
    "# **Algorithm number 4 : Convolution Neural network**"
   ]
  },
  {
   "cell_type": "code",
   "execution_count": null,
   "id": "b9b66318",
   "metadata": {
    "execution": {
     "iopub.execute_input": "2021-08-06T02:41:04.537081Z",
     "iopub.status.busy": "2021-08-06T02:41:04.536423Z",
     "iopub.status.idle": "2021-08-06T02:41:04.626190Z",
     "shell.execute_reply": "2021-08-06T02:41:04.625639Z",
     "shell.execute_reply.started": "2021-08-05T22:32:41.261975Z"
    },
    "papermill": {
     "duration": 2.03636,
     "end_time": "2021-08-06T02:41:04.626338",
     "exception": false,
     "start_time": "2021-08-06T02:41:02.589978",
     "status": "completed"
    },
    "tags": []
   },
   "outputs": [],
   "source": [
    "input_shape = (28, 28, 1) \n",
    "\n",
    "\n",
    "model5 = tf.keras.models.Sequential()\n",
    "#the first convolution layer\n",
    "model5.add(tf.keras.layers.Conv2D(32, kernel_size=(3, 3),\n",
    "                 activation='relu',\n",
    "                 kernel_initializer='he_normal',\n",
    "                 input_shape=input_shape))\n",
    "model5.add(tf.keras.layers.MaxPooling2D((2, 2)))\n",
    "\n",
    "\n",
    "#the second convolution layer\n",
    "model5.add(tf.keras.layers.Conv2D(64, (3, 3), activation='relu'))\n",
    "model5.add(tf.keras.layers.MaxPooling2D(pool_size=(2, 2)))\n",
    "\n",
    "\n",
    "#the third convolution layer\n",
    "model5.add(tf.keras.layers.Conv2D(128, (3, 3), activation='relu'))\n",
    "\n",
    "\n",
    "#classificator, a fully connected neural network that takes the outcome of the convolution as an input\n",
    "model5.add(tf.keras.layers.Flatten())\n",
    "model5.add(tf.keras.layers.Dense(128, activation='relu'))\n",
    "model5.add(tf.keras.layers.Dropout(0.3))\n",
    "model5.add(tf.keras.layers.Dense(10, activation='softmax'))\n",
    "\n",
    "model5.compile(loss=tf.keras.losses.categorical_crossentropy,\n",
    "              optimizer=tf.keras.optimizers.Adam(),\n",
    "              metrics=['accuracy'])\n",
    "\n",
    "model5.summary()"
   ]
  },
  {
   "cell_type": "code",
   "execution_count": null,
   "id": "5630b3f4",
   "metadata": {
    "execution": {
     "iopub.execute_input": "2021-08-06T02:41:08.518351Z",
     "iopub.status.busy": "2021-08-06T02:41:08.517702Z",
     "iopub.status.idle": "2021-08-06T02:49:10.475899Z",
     "shell.execute_reply": "2021-08-06T02:49:10.475087Z",
     "shell.execute_reply.started": "2021-08-05T22:33:35.292005Z"
    },
    "papermill": {
     "duration": 483.853439,
     "end_time": "2021-08-06T02:49:10.476103",
     "exception": false,
     "start_time": "2021-08-06T02:41:06.622664",
     "status": "completed"
    },
    "tags": []
   },
   "outputs": [],
   "source": [
    "#reshaping the data for the convolution\n",
    "train_featuresQ=train_features.reshape(train_features.shape[0],28,28,1)\n",
    "test_featuresQ=test_features.reshape(test_features.shape[0],28,28,1)\n",
    "val_featuresQ=val_features.reshape(val_features.shape[0],28,28,1)\n",
    "\n",
    "train_featuresQ= train_featuresQ.astype('float32')\n",
    "test_featuresQ = test_featuresQ.astype('float32')\n",
    "val_featuresQ = val_featuresQ.astype('float32')\n",
    "train_featuresQ /= 255\n",
    "test_featuresQ /= 255\n",
    "val_featuresQ /= 255\n",
    "\n",
    "train_labelsQ=to_categorical(train_labels)\n",
    "test_labelsQ=to_categorical(test_labels)\n",
    "val_labelsQ=to_categorical(val_labels)\n",
    "\n",
    "history = model5.fit(train_featuresQ,train_labelsQ,\n",
    "                    batch_size=512,\n",
    "                    epochs=15,\n",
    "                    verbose=1,\n",
    "                    validation_data=(val_featuresQ, val_labelsQ))\n",
    "\n",
    "\n"
   ]
  },
  {
   "cell_type": "code",
   "execution_count": null,
   "id": "175756a9",
   "metadata": {
    "execution": {
     "iopub.execute_input": "2021-08-06T02:49:15.211679Z",
     "iopub.status.busy": "2021-08-06T02:49:15.211024Z",
     "iopub.status.idle": "2021-08-06T02:49:19.744217Z",
     "shell.execute_reply": "2021-08-06T02:49:19.744736Z",
     "shell.execute_reply.started": "2021-08-05T22:41:55.63906Z"
    },
    "papermill": {
     "duration": 6.927,
     "end_time": "2021-08-06T02:49:19.744928",
     "exception": false,
     "start_time": "2021-08-06T02:49:12.817928",
     "status": "completed"
    },
    "tags": []
   },
   "outputs": [],
   "source": [
    "score = model5.evaluate(test_featuresQ, test_labelsQ, verbose=0)"
   ]
  },
  {
   "cell_type": "code",
   "execution_count": null,
   "id": "b07dc34b",
   "metadata": {
    "execution": {
     "iopub.execute_input": "2021-08-06T02:49:24.382316Z",
     "iopub.status.busy": "2021-08-06T02:49:24.381446Z",
     "iopub.status.idle": "2021-08-06T02:49:24.384761Z",
     "shell.execute_reply": "2021-08-06T02:49:24.385766Z",
     "shell.execute_reply.started": "2021-08-05T22:51:54.645207Z"
    },
    "papermill": {
     "duration": 2.318829,
     "end_time": "2021-08-06T02:49:24.386006",
     "exception": false,
     "start_time": "2021-08-06T02:49:22.067177",
     "status": "completed"
    },
    "tags": []
   },
   "outputs": [],
   "source": [
    "print('the accuracy of CNN is : ' + str(score[1]))"
   ]
  },
  {
   "cell_type": "markdown",
   "id": "8bad0f66",
   "metadata": {
    "papermill": {
     "duration": 2.341531,
     "end_time": "2021-08-06T02:49:29.091968",
     "exception": false,
     "start_time": "2021-08-06T02:49:26.750437",
     "status": "completed"
    },
    "tags": []
   },
   "source": [
    "> the accuracy of CNN is : 0.9185000061988831"
   ]
  },
  {
   "cell_type": "code",
   "execution_count": null,
   "id": "acab6dc4",
   "metadata": {
    "execution": {
     "iopub.execute_input": "2021-08-06T02:49:33.799374Z",
     "iopub.status.busy": "2021-08-06T02:49:33.798757Z",
     "iopub.status.idle": "2021-08-06T02:49:34.122978Z",
     "shell.execute_reply": "2021-08-06T02:49:34.123450Z",
     "shell.execute_reply.started": "2021-08-05T22:43:02.703959Z"
    },
    "papermill": {
     "duration": 2.6992,
     "end_time": "2021-08-06T02:49:34.123651",
     "exception": false,
     "start_time": "2021-08-06T02:49:31.424451",
     "status": "completed"
    },
    "tags": []
   },
   "outputs": [],
   "source": [
    "%matplotlib inline\n",
    "accuracy = history.history['accuracy']\n",
    "val_accuracy = history.history['val_accuracy']\n",
    "loss = history.history['loss']\n",
    "val_loss = history.history['val_loss']\n",
    "epochs = range(len(accuracy))\n",
    "plt.plot(epochs, accuracy, 'bo', label='Training accuracy')\n",
    "plt.plot(epochs, val_accuracy, 'b', label='Validation accuracy')\n",
    "plt.title('Training and validation accuracy')\n",
    "plt.legend()\n",
    "plt.figure()\n",
    "plt.plot(epochs, loss, 'bo', label='Training loss')\n",
    "plt.plot(epochs, val_loss, 'b', label='Validation loss')\n",
    "plt.title('Training and validation loss')\n",
    "plt.legend()\n",
    "plt.show()"
   ]
  }
 ],
 "metadata": {
  "kernelspec": {
   "display_name": "Python 3",
   "language": "python",
   "name": "python3"
  },
  "language_info": {
   "codemirror_mode": {
    "name": "ipython",
    "version": 3
   },
   "file_extension": ".py",
   "mimetype": "text/x-python",
   "name": "python",
   "nbconvert_exporter": "python",
   "pygments_lexer": "ipython3",
   "version": "3.8.8"
  },
  "latex_envs": {
   "LaTeX_envs_menu_present": true,
   "autoclose": false,
   "autocomplete": true,
   "bibliofile": "biblio.bib",
   "cite_by": "apalike",
   "current_citInitial": 1,
   "eqLabelWithNumbers": true,
   "eqNumInitial": 1,
   "hotkeys": {
    "equation": "Ctrl-E",
    "itemize": "Ctrl-I"
   },
   "labels_anchors": false,
   "latex_user_defs": false,
   "report_style_numbering": false,
   "user_envs_cfg": false
  },
  "papermill": {
   "default_parameters": {},
   "duration": 2714.690204,
   "end_time": "2021-08-06T02:49:38.157036",
   "environment_variables": {},
   "exception": null,
   "input_path": "__notebook__.ipynb",
   "output_path": "__notebook__.ipynb",
   "parameters": {},
   "start_time": "2021-08-06T02:04:23.466832",
   "version": "2.3.3"
  },
  "toc": {
   "base_numbering": 1,
   "nav_menu": {},
   "number_sections": true,
   "sideBar": true,
   "skip_h1_title": false,
   "title_cell": "Table of Contents",
   "title_sidebar": "Contents",
   "toc_cell": false,
   "toc_position": {},
   "toc_section_display": true,
   "toc_window_display": false
  }
 },
 "nbformat": 4,
 "nbformat_minor": 5
}
