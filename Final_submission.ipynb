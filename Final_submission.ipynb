{
 "cells": [
  {
   "cell_type": "code",
   "execution_count": 1,
   "id": "d65365a7",
   "metadata": {
    "_cell_guid": "b1076dfc-b9ad-4769-8c92-a6c4dae69d19",
    "_uuid": "8f2839f25d086af736a60e9eeb907d3b93b6e0e5",
    "execution": {
     "iopub.execute_input": "2021-08-06T02:04:32.282188Z",
     "iopub.status.busy": "2021-08-06T02:04:32.280982Z",
     "iopub.status.idle": "2021-08-06T02:04:32.305474Z",
     "shell.execute_reply": "2021-08-06T02:04:32.305963Z"
    },
    "papermill": {
     "duration": 0.055995,
     "end_time": "2021-08-06T02:04:32.306255",
     "exception": false,
     "start_time": "2021-08-06T02:04:32.250260",
     "status": "completed"
    },
    "tags": []
   },
   "outputs": [],
   "source": [
    "# This Python 3 environment comes with many helpful analytics libraries installed\n",
    "# It is defined by the kaggle/python Docker image: https://github.com/kaggle/docker-python\n",
    "# For example, here's several helpful packages to load\n",
    "\n",
    "import numpy as np # linear algebra\n",
    "import pandas as pd # data processing, CSV file I/O (e.g. pd.read_csv)\n",
    "\n",
    "# Input data files are available in the read-only \"../input/\" directory\n",
    "# For example, running this (by clicking run or pressing Shift+Enter) will list all files under the input directory\n",
    "\n",
    "import os\n",
    "for dirname, _, filenames in os.walk('/kaggle/input'):\n",
    "    for filename in filenames:\n",
    "        print(os.path.join(dirname, filename))\n",
    "\n",
    "# You can write up to 20GB to the current directory (/kaggle/working/) that gets preserved as output when you create a version using \"Save & Run All\" \n",
    "# You can also write temporary files to /kaggle/temp/, but they won't be saved outside of the current session"
   ]
  },
  {
   "cell_type": "code",
   "execution_count": 2,
   "id": "f01381bf",
   "metadata": {
    "execution": {
     "iopub.execute_input": "2021-08-06T02:04:32.367313Z",
     "iopub.status.busy": "2021-08-06T02:04:32.366402Z",
     "iopub.status.idle": "2021-08-06T02:04:40.057576Z",
     "shell.execute_reply": "2021-08-06T02:04:40.056877Z",
     "shell.execute_reply.started": "2021-08-06T00:09:07.540435Z"
    },
    "papermill": {
     "duration": 7.723934,
     "end_time": "2021-08-06T02:04:40.057777",
     "exception": false,
     "start_time": "2021-08-06T02:04:32.333843",
     "status": "completed"
    },
    "tags": []
   },
   "outputs": [],
   "source": [
    "import tensorflow as tf\n",
    "import numpy as np\n",
    "import pandas as pd \n",
    "from sklearn.model_selection import train_test_split\n",
    "import matplotlib.pyplot as plt\n",
    "import numpy as np\n",
    "#from keras.utils import to_categorical\n",
    "from sklearn import svm\n",
    "from sklearn.preprocessing import StandardScaler\n",
    "from sklearn.metrics import accuracy_score\n",
    "from sklearn.neighbors import KNeighborsClassifier\n",
    "import datetime\n",
    "tf.config.run_functions_eagerly(True)"
   ]
  },
  {
   "cell_type": "markdown",
   "id": "5dd48e91",
   "metadata": {
    "papermill": {
     "duration": 0.027195,
     "end_time": "2021-08-06T02:04:40.112063",
     "exception": false,
     "start_time": "2021-08-06T02:04:40.084868",
     "status": "completed"
    },
    "tags": []
   },
   "source": [
    "# **Loading, visualising the dataset, and preparing the data**"
   ]
  },
  {
   "cell_type": "code",
   "execution_count": 3,
   "id": "cb4d93b3",
   "metadata": {
    "execution": {
     "iopub.execute_input": "2021-08-06T02:04:40.170860Z",
     "iopub.status.busy": "2021-08-06T02:04:40.170132Z",
     "iopub.status.idle": "2021-08-06T02:04:48.125677Z",
     "shell.execute_reply": "2021-08-06T02:04:48.126176Z",
     "shell.execute_reply.started": "2021-08-06T00:09:34.519295Z"
    },
    "papermill": {
     "duration": 7.987536,
     "end_time": "2021-08-06T02:04:48.126361",
     "exception": false,
     "start_time": "2021-08-06T02:04:40.138825",
     "status": "completed"
    },
    "tags": []
   },
   "outputs": [],
   "source": [
    "df_test = pd.read_csv ('fashion-mnist_test.csv')\n",
    "df_train = pd.read_csv ('fashion-mnist_train.csv') "
   ]
  },
  {
   "cell_type": "code",
   "execution_count": 4,
   "id": "10123797",
   "metadata": {},
   "outputs": [
    {
     "data": {
      "text/html": [
       "<div>\n",
       "<style scoped>\n",
       "    .dataframe tbody tr th:only-of-type {\n",
       "        vertical-align: middle;\n",
       "    }\n",
       "\n",
       "    .dataframe tbody tr th {\n",
       "        vertical-align: top;\n",
       "    }\n",
       "\n",
       "    .dataframe thead th {\n",
       "        text-align: right;\n",
       "    }\n",
       "</style>\n",
       "<table border=\"1\" class=\"dataframe\">\n",
       "  <thead>\n",
       "    <tr style=\"text-align: right;\">\n",
       "      <th></th>\n",
       "      <th>label</th>\n",
       "      <th>pixel1</th>\n",
       "      <th>pixel2</th>\n",
       "      <th>pixel3</th>\n",
       "      <th>pixel4</th>\n",
       "      <th>pixel5</th>\n",
       "      <th>pixel6</th>\n",
       "      <th>pixel7</th>\n",
       "      <th>pixel8</th>\n",
       "      <th>pixel9</th>\n",
       "      <th>...</th>\n",
       "      <th>pixel775</th>\n",
       "      <th>pixel776</th>\n",
       "      <th>pixel777</th>\n",
       "      <th>pixel778</th>\n",
       "      <th>pixel779</th>\n",
       "      <th>pixel780</th>\n",
       "      <th>pixel781</th>\n",
       "      <th>pixel782</th>\n",
       "      <th>pixel783</th>\n",
       "      <th>pixel784</th>\n",
       "    </tr>\n",
       "  </thead>\n",
       "  <tbody>\n",
       "    <tr>\n",
       "      <th>0</th>\n",
       "      <td>2</td>\n",
       "      <td>0</td>\n",
       "      <td>0</td>\n",
       "      <td>0</td>\n",
       "      <td>0</td>\n",
       "      <td>0</td>\n",
       "      <td>0</td>\n",
       "      <td>0</td>\n",
       "      <td>0</td>\n",
       "      <td>0</td>\n",
       "      <td>...</td>\n",
       "      <td>0</td>\n",
       "      <td>0</td>\n",
       "      <td>0</td>\n",
       "      <td>0</td>\n",
       "      <td>0</td>\n",
       "      <td>0</td>\n",
       "      <td>0</td>\n",
       "      <td>0</td>\n",
       "      <td>0</td>\n",
       "      <td>0</td>\n",
       "    </tr>\n",
       "    <tr>\n",
       "      <th>1</th>\n",
       "      <td>9</td>\n",
       "      <td>0</td>\n",
       "      <td>0</td>\n",
       "      <td>0</td>\n",
       "      <td>0</td>\n",
       "      <td>0</td>\n",
       "      <td>0</td>\n",
       "      <td>0</td>\n",
       "      <td>0</td>\n",
       "      <td>0</td>\n",
       "      <td>...</td>\n",
       "      <td>0</td>\n",
       "      <td>0</td>\n",
       "      <td>0</td>\n",
       "      <td>0</td>\n",
       "      <td>0</td>\n",
       "      <td>0</td>\n",
       "      <td>0</td>\n",
       "      <td>0</td>\n",
       "      <td>0</td>\n",
       "      <td>0</td>\n",
       "    </tr>\n",
       "    <tr>\n",
       "      <th>2</th>\n",
       "      <td>6</td>\n",
       "      <td>0</td>\n",
       "      <td>0</td>\n",
       "      <td>0</td>\n",
       "      <td>0</td>\n",
       "      <td>0</td>\n",
       "      <td>0</td>\n",
       "      <td>0</td>\n",
       "      <td>5</td>\n",
       "      <td>0</td>\n",
       "      <td>...</td>\n",
       "      <td>0</td>\n",
       "      <td>0</td>\n",
       "      <td>0</td>\n",
       "      <td>30</td>\n",
       "      <td>43</td>\n",
       "      <td>0</td>\n",
       "      <td>0</td>\n",
       "      <td>0</td>\n",
       "      <td>0</td>\n",
       "      <td>0</td>\n",
       "    </tr>\n",
       "    <tr>\n",
       "      <th>3</th>\n",
       "      <td>0</td>\n",
       "      <td>0</td>\n",
       "      <td>0</td>\n",
       "      <td>0</td>\n",
       "      <td>1</td>\n",
       "      <td>2</td>\n",
       "      <td>0</td>\n",
       "      <td>0</td>\n",
       "      <td>0</td>\n",
       "      <td>0</td>\n",
       "      <td>...</td>\n",
       "      <td>3</td>\n",
       "      <td>0</td>\n",
       "      <td>0</td>\n",
       "      <td>0</td>\n",
       "      <td>0</td>\n",
       "      <td>1</td>\n",
       "      <td>0</td>\n",
       "      <td>0</td>\n",
       "      <td>0</td>\n",
       "      <td>0</td>\n",
       "    </tr>\n",
       "    <tr>\n",
       "      <th>4</th>\n",
       "      <td>3</td>\n",
       "      <td>0</td>\n",
       "      <td>0</td>\n",
       "      <td>0</td>\n",
       "      <td>0</td>\n",
       "      <td>0</td>\n",
       "      <td>0</td>\n",
       "      <td>0</td>\n",
       "      <td>0</td>\n",
       "      <td>0</td>\n",
       "      <td>...</td>\n",
       "      <td>0</td>\n",
       "      <td>0</td>\n",
       "      <td>0</td>\n",
       "      <td>0</td>\n",
       "      <td>0</td>\n",
       "      <td>0</td>\n",
       "      <td>0</td>\n",
       "      <td>0</td>\n",
       "      <td>0</td>\n",
       "      <td>0</td>\n",
       "    </tr>\n",
       "    <tr>\n",
       "      <th>...</th>\n",
       "      <td>...</td>\n",
       "      <td>...</td>\n",
       "      <td>...</td>\n",
       "      <td>...</td>\n",
       "      <td>...</td>\n",
       "      <td>...</td>\n",
       "      <td>...</td>\n",
       "      <td>...</td>\n",
       "      <td>...</td>\n",
       "      <td>...</td>\n",
       "      <td>...</td>\n",
       "      <td>...</td>\n",
       "      <td>...</td>\n",
       "      <td>...</td>\n",
       "      <td>...</td>\n",
       "      <td>...</td>\n",
       "      <td>...</td>\n",
       "      <td>...</td>\n",
       "      <td>...</td>\n",
       "      <td>...</td>\n",
       "      <td>...</td>\n",
       "    </tr>\n",
       "    <tr>\n",
       "      <th>59995</th>\n",
       "      <td>9</td>\n",
       "      <td>0</td>\n",
       "      <td>0</td>\n",
       "      <td>0</td>\n",
       "      <td>0</td>\n",
       "      <td>0</td>\n",
       "      <td>0</td>\n",
       "      <td>0</td>\n",
       "      <td>0</td>\n",
       "      <td>0</td>\n",
       "      <td>...</td>\n",
       "      <td>0</td>\n",
       "      <td>0</td>\n",
       "      <td>0</td>\n",
       "      <td>0</td>\n",
       "      <td>0</td>\n",
       "      <td>0</td>\n",
       "      <td>0</td>\n",
       "      <td>0</td>\n",
       "      <td>0</td>\n",
       "      <td>0</td>\n",
       "    </tr>\n",
       "    <tr>\n",
       "      <th>59996</th>\n",
       "      <td>1</td>\n",
       "      <td>0</td>\n",
       "      <td>0</td>\n",
       "      <td>0</td>\n",
       "      <td>0</td>\n",
       "      <td>0</td>\n",
       "      <td>0</td>\n",
       "      <td>0</td>\n",
       "      <td>0</td>\n",
       "      <td>0</td>\n",
       "      <td>...</td>\n",
       "      <td>73</td>\n",
       "      <td>0</td>\n",
       "      <td>0</td>\n",
       "      <td>0</td>\n",
       "      <td>0</td>\n",
       "      <td>0</td>\n",
       "      <td>0</td>\n",
       "      <td>0</td>\n",
       "      <td>0</td>\n",
       "      <td>0</td>\n",
       "    </tr>\n",
       "    <tr>\n",
       "      <th>59997</th>\n",
       "      <td>8</td>\n",
       "      <td>0</td>\n",
       "      <td>0</td>\n",
       "      <td>0</td>\n",
       "      <td>0</td>\n",
       "      <td>0</td>\n",
       "      <td>0</td>\n",
       "      <td>0</td>\n",
       "      <td>0</td>\n",
       "      <td>0</td>\n",
       "      <td>...</td>\n",
       "      <td>160</td>\n",
       "      <td>162</td>\n",
       "      <td>163</td>\n",
       "      <td>135</td>\n",
       "      <td>94</td>\n",
       "      <td>0</td>\n",
       "      <td>0</td>\n",
       "      <td>0</td>\n",
       "      <td>0</td>\n",
       "      <td>0</td>\n",
       "    </tr>\n",
       "    <tr>\n",
       "      <th>59998</th>\n",
       "      <td>8</td>\n",
       "      <td>0</td>\n",
       "      <td>0</td>\n",
       "      <td>0</td>\n",
       "      <td>0</td>\n",
       "      <td>0</td>\n",
       "      <td>0</td>\n",
       "      <td>0</td>\n",
       "      <td>0</td>\n",
       "      <td>0</td>\n",
       "      <td>...</td>\n",
       "      <td>0</td>\n",
       "      <td>0</td>\n",
       "      <td>0</td>\n",
       "      <td>0</td>\n",
       "      <td>0</td>\n",
       "      <td>0</td>\n",
       "      <td>0</td>\n",
       "      <td>0</td>\n",
       "      <td>0</td>\n",
       "      <td>0</td>\n",
       "    </tr>\n",
       "    <tr>\n",
       "      <th>59999</th>\n",
       "      <td>7</td>\n",
       "      <td>0</td>\n",
       "      <td>0</td>\n",
       "      <td>0</td>\n",
       "      <td>0</td>\n",
       "      <td>0</td>\n",
       "      <td>0</td>\n",
       "      <td>0</td>\n",
       "      <td>0</td>\n",
       "      <td>0</td>\n",
       "      <td>...</td>\n",
       "      <td>0</td>\n",
       "      <td>0</td>\n",
       "      <td>0</td>\n",
       "      <td>0</td>\n",
       "      <td>0</td>\n",
       "      <td>0</td>\n",
       "      <td>0</td>\n",
       "      <td>0</td>\n",
       "      <td>0</td>\n",
       "      <td>0</td>\n",
       "    </tr>\n",
       "  </tbody>\n",
       "</table>\n",
       "<p>60000 rows × 785 columns</p>\n",
       "</div>"
      ],
      "text/plain": [
       "       label  pixel1  pixel2  pixel3  pixel4  pixel5  pixel6  pixel7  pixel8  \\\n",
       "0          2       0       0       0       0       0       0       0       0   \n",
       "1          9       0       0       0       0       0       0       0       0   \n",
       "2          6       0       0       0       0       0       0       0       5   \n",
       "3          0       0       0       0       1       2       0       0       0   \n",
       "4          3       0       0       0       0       0       0       0       0   \n",
       "...      ...     ...     ...     ...     ...     ...     ...     ...     ...   \n",
       "59995      9       0       0       0       0       0       0       0       0   \n",
       "59996      1       0       0       0       0       0       0       0       0   \n",
       "59997      8       0       0       0       0       0       0       0       0   \n",
       "59998      8       0       0       0       0       0       0       0       0   \n",
       "59999      7       0       0       0       0       0       0       0       0   \n",
       "\n",
       "       pixel9  ...  pixel775  pixel776  pixel777  pixel778  pixel779  \\\n",
       "0           0  ...         0         0         0         0         0   \n",
       "1           0  ...         0         0         0         0         0   \n",
       "2           0  ...         0         0         0        30        43   \n",
       "3           0  ...         3         0         0         0         0   \n",
       "4           0  ...         0         0         0         0         0   \n",
       "...       ...  ...       ...       ...       ...       ...       ...   \n",
       "59995       0  ...         0         0         0         0         0   \n",
       "59996       0  ...        73         0         0         0         0   \n",
       "59997       0  ...       160       162       163       135        94   \n",
       "59998       0  ...         0         0         0         0         0   \n",
       "59999       0  ...         0         0         0         0         0   \n",
       "\n",
       "       pixel780  pixel781  pixel782  pixel783  pixel784  \n",
       "0             0         0         0         0         0  \n",
       "1             0         0         0         0         0  \n",
       "2             0         0         0         0         0  \n",
       "3             1         0         0         0         0  \n",
       "4             0         0         0         0         0  \n",
       "...         ...       ...       ...       ...       ...  \n",
       "59995         0         0         0         0         0  \n",
       "59996         0         0         0         0         0  \n",
       "59997         0         0         0         0         0  \n",
       "59998         0         0         0         0         0  \n",
       "59999         0         0         0         0         0  \n",
       "\n",
       "[60000 rows x 785 columns]"
      ]
     },
     "execution_count": 4,
     "metadata": {},
     "output_type": "execute_result"
    }
   ],
   "source": [
    "df_train"
   ]
  },
  {
   "cell_type": "code",
   "execution_count": 5,
   "id": "53d8a7eb",
   "metadata": {},
   "outputs": [
    {
     "data": {
      "text/html": [
       "<div>\n",
       "<style scoped>\n",
       "    .dataframe tbody tr th:only-of-type {\n",
       "        vertical-align: middle;\n",
       "    }\n",
       "\n",
       "    .dataframe tbody tr th {\n",
       "        vertical-align: top;\n",
       "    }\n",
       "\n",
       "    .dataframe thead th {\n",
       "        text-align: right;\n",
       "    }\n",
       "</style>\n",
       "<table border=\"1\" class=\"dataframe\">\n",
       "  <thead>\n",
       "    <tr style=\"text-align: right;\">\n",
       "      <th></th>\n",
       "      <th>label</th>\n",
       "      <th>pixel1</th>\n",
       "      <th>pixel2</th>\n",
       "      <th>pixel3</th>\n",
       "      <th>pixel4</th>\n",
       "      <th>pixel5</th>\n",
       "      <th>pixel6</th>\n",
       "      <th>pixel7</th>\n",
       "      <th>pixel8</th>\n",
       "      <th>pixel9</th>\n",
       "      <th>...</th>\n",
       "      <th>pixel775</th>\n",
       "      <th>pixel776</th>\n",
       "      <th>pixel777</th>\n",
       "      <th>pixel778</th>\n",
       "      <th>pixel779</th>\n",
       "      <th>pixel780</th>\n",
       "      <th>pixel781</th>\n",
       "      <th>pixel782</th>\n",
       "      <th>pixel783</th>\n",
       "      <th>pixel784</th>\n",
       "    </tr>\n",
       "  </thead>\n",
       "  <tbody>\n",
       "    <tr>\n",
       "      <th>0</th>\n",
       "      <td>0</td>\n",
       "      <td>0</td>\n",
       "      <td>0</td>\n",
       "      <td>0</td>\n",
       "      <td>0</td>\n",
       "      <td>0</td>\n",
       "      <td>0</td>\n",
       "      <td>0</td>\n",
       "      <td>9</td>\n",
       "      <td>8</td>\n",
       "      <td>...</td>\n",
       "      <td>103</td>\n",
       "      <td>87</td>\n",
       "      <td>56</td>\n",
       "      <td>0</td>\n",
       "      <td>0</td>\n",
       "      <td>0</td>\n",
       "      <td>0</td>\n",
       "      <td>0</td>\n",
       "      <td>0</td>\n",
       "      <td>0</td>\n",
       "    </tr>\n",
       "    <tr>\n",
       "      <th>1</th>\n",
       "      <td>1</td>\n",
       "      <td>0</td>\n",
       "      <td>0</td>\n",
       "      <td>0</td>\n",
       "      <td>0</td>\n",
       "      <td>0</td>\n",
       "      <td>0</td>\n",
       "      <td>0</td>\n",
       "      <td>0</td>\n",
       "      <td>0</td>\n",
       "      <td>...</td>\n",
       "      <td>34</td>\n",
       "      <td>0</td>\n",
       "      <td>0</td>\n",
       "      <td>0</td>\n",
       "      <td>0</td>\n",
       "      <td>0</td>\n",
       "      <td>0</td>\n",
       "      <td>0</td>\n",
       "      <td>0</td>\n",
       "      <td>0</td>\n",
       "    </tr>\n",
       "    <tr>\n",
       "      <th>2</th>\n",
       "      <td>2</td>\n",
       "      <td>0</td>\n",
       "      <td>0</td>\n",
       "      <td>0</td>\n",
       "      <td>0</td>\n",
       "      <td>0</td>\n",
       "      <td>0</td>\n",
       "      <td>14</td>\n",
       "      <td>53</td>\n",
       "      <td>99</td>\n",
       "      <td>...</td>\n",
       "      <td>0</td>\n",
       "      <td>0</td>\n",
       "      <td>0</td>\n",
       "      <td>0</td>\n",
       "      <td>63</td>\n",
       "      <td>53</td>\n",
       "      <td>31</td>\n",
       "      <td>0</td>\n",
       "      <td>0</td>\n",
       "      <td>0</td>\n",
       "    </tr>\n",
       "    <tr>\n",
       "      <th>3</th>\n",
       "      <td>2</td>\n",
       "      <td>0</td>\n",
       "      <td>0</td>\n",
       "      <td>0</td>\n",
       "      <td>0</td>\n",
       "      <td>0</td>\n",
       "      <td>0</td>\n",
       "      <td>0</td>\n",
       "      <td>0</td>\n",
       "      <td>0</td>\n",
       "      <td>...</td>\n",
       "      <td>137</td>\n",
       "      <td>126</td>\n",
       "      <td>140</td>\n",
       "      <td>0</td>\n",
       "      <td>133</td>\n",
       "      <td>224</td>\n",
       "      <td>222</td>\n",
       "      <td>56</td>\n",
       "      <td>0</td>\n",
       "      <td>0</td>\n",
       "    </tr>\n",
       "    <tr>\n",
       "      <th>4</th>\n",
       "      <td>3</td>\n",
       "      <td>0</td>\n",
       "      <td>0</td>\n",
       "      <td>0</td>\n",
       "      <td>0</td>\n",
       "      <td>0</td>\n",
       "      <td>0</td>\n",
       "      <td>0</td>\n",
       "      <td>0</td>\n",
       "      <td>0</td>\n",
       "      <td>...</td>\n",
       "      <td>0</td>\n",
       "      <td>0</td>\n",
       "      <td>0</td>\n",
       "      <td>0</td>\n",
       "      <td>0</td>\n",
       "      <td>0</td>\n",
       "      <td>0</td>\n",
       "      <td>0</td>\n",
       "      <td>0</td>\n",
       "      <td>0</td>\n",
       "    </tr>\n",
       "    <tr>\n",
       "      <th>...</th>\n",
       "      <td>...</td>\n",
       "      <td>...</td>\n",
       "      <td>...</td>\n",
       "      <td>...</td>\n",
       "      <td>...</td>\n",
       "      <td>...</td>\n",
       "      <td>...</td>\n",
       "      <td>...</td>\n",
       "      <td>...</td>\n",
       "      <td>...</td>\n",
       "      <td>...</td>\n",
       "      <td>...</td>\n",
       "      <td>...</td>\n",
       "      <td>...</td>\n",
       "      <td>...</td>\n",
       "      <td>...</td>\n",
       "      <td>...</td>\n",
       "      <td>...</td>\n",
       "      <td>...</td>\n",
       "      <td>...</td>\n",
       "      <td>...</td>\n",
       "    </tr>\n",
       "    <tr>\n",
       "      <th>9995</th>\n",
       "      <td>0</td>\n",
       "      <td>0</td>\n",
       "      <td>0</td>\n",
       "      <td>0</td>\n",
       "      <td>0</td>\n",
       "      <td>0</td>\n",
       "      <td>0</td>\n",
       "      <td>0</td>\n",
       "      <td>0</td>\n",
       "      <td>0</td>\n",
       "      <td>...</td>\n",
       "      <td>32</td>\n",
       "      <td>23</td>\n",
       "      <td>14</td>\n",
       "      <td>20</td>\n",
       "      <td>0</td>\n",
       "      <td>0</td>\n",
       "      <td>1</td>\n",
       "      <td>0</td>\n",
       "      <td>0</td>\n",
       "      <td>0</td>\n",
       "    </tr>\n",
       "    <tr>\n",
       "      <th>9996</th>\n",
       "      <td>6</td>\n",
       "      <td>0</td>\n",
       "      <td>0</td>\n",
       "      <td>0</td>\n",
       "      <td>0</td>\n",
       "      <td>0</td>\n",
       "      <td>0</td>\n",
       "      <td>0</td>\n",
       "      <td>0</td>\n",
       "      <td>0</td>\n",
       "      <td>...</td>\n",
       "      <td>0</td>\n",
       "      <td>0</td>\n",
       "      <td>0</td>\n",
       "      <td>2</td>\n",
       "      <td>52</td>\n",
       "      <td>23</td>\n",
       "      <td>28</td>\n",
       "      <td>0</td>\n",
       "      <td>0</td>\n",
       "      <td>0</td>\n",
       "    </tr>\n",
       "    <tr>\n",
       "      <th>9997</th>\n",
       "      <td>8</td>\n",
       "      <td>0</td>\n",
       "      <td>0</td>\n",
       "      <td>0</td>\n",
       "      <td>0</td>\n",
       "      <td>0</td>\n",
       "      <td>0</td>\n",
       "      <td>0</td>\n",
       "      <td>0</td>\n",
       "      <td>0</td>\n",
       "      <td>...</td>\n",
       "      <td>175</td>\n",
       "      <td>172</td>\n",
       "      <td>172</td>\n",
       "      <td>182</td>\n",
       "      <td>199</td>\n",
       "      <td>222</td>\n",
       "      <td>42</td>\n",
       "      <td>0</td>\n",
       "      <td>1</td>\n",
       "      <td>0</td>\n",
       "    </tr>\n",
       "    <tr>\n",
       "      <th>9998</th>\n",
       "      <td>8</td>\n",
       "      <td>0</td>\n",
       "      <td>1</td>\n",
       "      <td>3</td>\n",
       "      <td>0</td>\n",
       "      <td>0</td>\n",
       "      <td>0</td>\n",
       "      <td>0</td>\n",
       "      <td>0</td>\n",
       "      <td>0</td>\n",
       "      <td>...</td>\n",
       "      <td>0</td>\n",
       "      <td>0</td>\n",
       "      <td>0</td>\n",
       "      <td>0</td>\n",
       "      <td>0</td>\n",
       "      <td>1</td>\n",
       "      <td>0</td>\n",
       "      <td>0</td>\n",
       "      <td>0</td>\n",
       "      <td>0</td>\n",
       "    </tr>\n",
       "    <tr>\n",
       "      <th>9999</th>\n",
       "      <td>1</td>\n",
       "      <td>0</td>\n",
       "      <td>0</td>\n",
       "      <td>0</td>\n",
       "      <td>0</td>\n",
       "      <td>0</td>\n",
       "      <td>0</td>\n",
       "      <td>0</td>\n",
       "      <td>140</td>\n",
       "      <td>119</td>\n",
       "      <td>...</td>\n",
       "      <td>111</td>\n",
       "      <td>95</td>\n",
       "      <td>75</td>\n",
       "      <td>44</td>\n",
       "      <td>1</td>\n",
       "      <td>0</td>\n",
       "      <td>0</td>\n",
       "      <td>0</td>\n",
       "      <td>0</td>\n",
       "      <td>0</td>\n",
       "    </tr>\n",
       "  </tbody>\n",
       "</table>\n",
       "<p>10000 rows × 785 columns</p>\n",
       "</div>"
      ],
      "text/plain": [
       "      label  pixel1  pixel2  pixel3  pixel4  pixel5  pixel6  pixel7  pixel8  \\\n",
       "0         0       0       0       0       0       0       0       0       9   \n",
       "1         1       0       0       0       0       0       0       0       0   \n",
       "2         2       0       0       0       0       0       0      14      53   \n",
       "3         2       0       0       0       0       0       0       0       0   \n",
       "4         3       0       0       0       0       0       0       0       0   \n",
       "...     ...     ...     ...     ...     ...     ...     ...     ...     ...   \n",
       "9995      0       0       0       0       0       0       0       0       0   \n",
       "9996      6       0       0       0       0       0       0       0       0   \n",
       "9997      8       0       0       0       0       0       0       0       0   \n",
       "9998      8       0       1       3       0       0       0       0       0   \n",
       "9999      1       0       0       0       0       0       0       0     140   \n",
       "\n",
       "      pixel9  ...  pixel775  pixel776  pixel777  pixel778  pixel779  pixel780  \\\n",
       "0          8  ...       103        87        56         0         0         0   \n",
       "1          0  ...        34         0         0         0         0         0   \n",
       "2         99  ...         0         0         0         0        63        53   \n",
       "3          0  ...       137       126       140         0       133       224   \n",
       "4          0  ...         0         0         0         0         0         0   \n",
       "...      ...  ...       ...       ...       ...       ...       ...       ...   \n",
       "9995       0  ...        32        23        14        20         0         0   \n",
       "9996       0  ...         0         0         0         2        52        23   \n",
       "9997       0  ...       175       172       172       182       199       222   \n",
       "9998       0  ...         0         0         0         0         0         1   \n",
       "9999     119  ...       111        95        75        44         1         0   \n",
       "\n",
       "      pixel781  pixel782  pixel783  pixel784  \n",
       "0            0         0         0         0  \n",
       "1            0         0         0         0  \n",
       "2           31         0         0         0  \n",
       "3          222        56         0         0  \n",
       "4            0         0         0         0  \n",
       "...        ...       ...       ...       ...  \n",
       "9995         1         0         0         0  \n",
       "9996        28         0         0         0  \n",
       "9997        42         0         1         0  \n",
       "9998         0         0         0         0  \n",
       "9999         0         0         0         0  \n",
       "\n",
       "[10000 rows x 785 columns]"
      ]
     },
     "execution_count": 5,
     "metadata": {},
     "output_type": "execute_result"
    }
   ],
   "source": [
    "df_test"
   ]
  },
  {
   "cell_type": "code",
   "execution_count": 6,
   "id": "a560851f",
   "metadata": {},
   "outputs": [
    {
     "data": {
      "text/plain": [
       "\"\\n\\ndf=df_train\\ndf.drop(df[df['label'] ==2].index, inplace = True)\\ndf.drop(df[df['label'] == 3].index, inplace = True)\\ndf.drop(df[df['label'] == 4].index, inplace = True)\\ndf.drop(df[df['label'] ==5].index, inplace = True)\\ndf.drop(df[df['label'] == 6].index, inplace = True)\\ndf.drop(df[df['label'] == 7].index, inplace = True)\\ndf.drop(df[df['label'] == 8].index, inplace = True)\\ndf.drop(df[df['label'] == 9].index, inplace = True)\\n\""
      ]
     },
     "execution_count": 6,
     "metadata": {},
     "output_type": "execute_result"
    }
   ],
   "source": [
    "'''\n",
    "\n",
    "df=df_train\n",
    "df.drop(df[df['label'] ==2].index, inplace = True)\n",
    "df.drop(df[df['label'] == 3].index, inplace = True)\n",
    "df.drop(df[df['label'] == 4].index, inplace = True)\n",
    "df.drop(df[df['label'] ==5].index, inplace = True)\n",
    "df.drop(df[df['label'] == 6].index, inplace = True)\n",
    "df.drop(df[df['label'] == 7].index, inplace = True)\n",
    "df.drop(df[df['label'] == 8].index, inplace = True)\n",
    "df.drop(df[df['label'] == 9].index, inplace = True)\n",
    "'''"
   ]
  },
  {
   "cell_type": "code",
   "execution_count": 7,
   "id": "672a33fd",
   "metadata": {},
   "outputs": [
    {
     "data": {
      "text/plain": [
       "\"\\ndf=df_test\\ndf.drop(df[df['label'] ==2].index, inplace = True)\\ndf.drop(df[df['label'] == 3].index, inplace = True)\\ndf.drop(df[df['label'] == 4].index, inplace = True)\\ndf.drop(df[df['label'] ==5].index, inplace = True)\\ndf.drop(df[df['label'] == 6].index, inplace = True)\\ndf.drop(df[df['label'] == 7].index, inplace = True)\\ndf.drop(df[df['label'] == 8].index, inplace = True)\\ndf.drop(df[df['label'] == 9].index, inplace = True)\\n\""
      ]
     },
     "execution_count": 7,
     "metadata": {},
     "output_type": "execute_result"
    }
   ],
   "source": [
    "'''\n",
    "df=df_test\n",
    "df.drop(df[df['label'] ==2].index, inplace = True)\n",
    "df.drop(df[df['label'] == 3].index, inplace = True)\n",
    "df.drop(df[df['label'] == 4].index, inplace = True)\n",
    "df.drop(df[df['label'] ==5].index, inplace = True)\n",
    "df.drop(df[df['label'] == 6].index, inplace = True)\n",
    "df.drop(df[df['label'] == 7].index, inplace = True)\n",
    "df.drop(df[df['label'] == 8].index, inplace = True)\n",
    "df.drop(df[df['label'] == 9].index, inplace = True)\n",
    "'''"
   ]
  },
  {
   "cell_type": "markdown",
   "id": "3b15df05",
   "metadata": {
    "papermill": {
     "duration": 0.026664,
     "end_time": "2021-08-06T02:04:48.179865",
     "exception": false,
     "start_time": "2021-08-06T02:04:48.153201",
     "status": "completed"
    },
    "tags": []
   },
   "source": []
  },
  {
   "cell_type": "code",
   "execution_count": 9,
   "id": "f1c4c6e0",
   "metadata": {
    "execution": {
     "iopub.execute_input": "2021-08-06T02:04:48.238262Z",
     "iopub.status.busy": "2021-08-06T02:04:48.237564Z",
     "iopub.status.idle": "2021-08-06T02:04:49.271177Z",
     "shell.execute_reply": "2021-08-06T02:04:49.271686Z",
     "shell.execute_reply.started": "2021-08-06T00:10:31.192913Z"
    },
    "papermill": {
     "duration": 1.063735,
     "end_time": "2021-08-06T02:04:49.271858",
     "exception": false,
     "start_time": "2021-08-06T02:04:48.208123",
     "status": "completed"
    },
    "tags": []
   },
   "outputs": [
    {
     "name": "stderr",
     "output_type": "stream",
     "text": [
      "C:\\Users\\WELCOME\\AppData\\Local\\Temp/ipykernel_4256/4196552149.py:2: FutureWarning: In a future version of pandas all arguments of DataFrame.drop except for the argument 'labels' will be keyword-only\n",
      "  x_train= a.drop('label',1)\n",
      "C:\\Users\\WELCOME\\AppData\\Local\\Temp/ipykernel_4256/4196552149.py:4: FutureWarning: In a future version of pandas all arguments of DataFrame.drop except for the argument 'labels' will be keyword-only\n",
      "  x_test=b.drop('label',1)\n"
     ]
    },
    {
     "name": "stdout",
     "output_type": "stream",
     "text": [
      "shape of training features : (48000, 784)\n",
      "shape of training labels(48000,)\n",
      "shape of valuation features (12000, 784)\n",
      "shape of valuation labels(12000,)\n",
      "shape of testing features(10000, 784)\n",
      "shape of testing labels(10000,)\n"
     ]
    }
   ],
   "source": [
    "a = df_train\n",
    "x_train= a.drop('label',1)\n",
    "b=df_test\n",
    "x_test=b.drop('label',1)\n",
    "y_train=a['label']\n",
    "y_test=b['label']\n",
    "x_train, val_x, y_train,val_y = train_test_split(x_train, y_train, test_size=0.2, random_state=1)\n",
    "print(\"shape of training features : \"+ str(x_train.shape))\n",
    "print(\"shape of training labels\" + str(y_train.shape))\n",
    "\n",
    "print(\"shape of valuation features \" + str(val_x.shape))\n",
    "print(\"shape of valuation labels\" + str(val_y.shape))\n",
    "\n",
    "print(\"shape of testing features\" + str(x_test.shape))\n",
    "print(\"shape of testing labels\" + str(y_test.shape))"
   ]
  },
  {
   "cell_type": "markdown",
   "id": "27cd68c2",
   "metadata": {
    "papermill": {
     "duration": 0.026634,
     "end_time": "2021-08-06T02:04:49.325541",
     "exception": false,
     "start_time": "2021-08-06T02:04:49.298907",
     "status": "completed"
    },
    "tags": []
   },
   "source": [
    "Transforming the Dataframes into arrays"
   ]
  },
  {
   "cell_type": "code",
   "execution_count": 10,
   "id": "cf08c9f4",
   "metadata": {
    "execution": {
     "iopub.execute_input": "2021-08-06T02:04:49.385068Z",
     "iopub.status.busy": "2021-08-06T02:04:49.384359Z",
     "iopub.status.idle": "2021-08-06T02:04:49.386431Z",
     "shell.execute_reply": "2021-08-06T02:04:49.386906Z",
     "shell.execute_reply.started": "2021-08-06T00:10:35.317657Z"
    },
    "papermill": {
     "duration": 0.034603,
     "end_time": "2021-08-06T02:04:49.387086",
     "exception": false,
     "start_time": "2021-08-06T02:04:49.352483",
     "status": "completed"
    },
    "tags": []
   },
   "outputs": [],
   "source": [
    "x_train = x_train.to_numpy()\n",
    "y_train = y_train.to_numpy()\n",
    "val_features = val_x.to_numpy()\n",
    "val_labels = val_y.to_numpy()\n",
    "test_features = x_test.to_numpy()\n",
    "test_labels = y_test.to_numpy()\n",
    "    "
   ]
  },
  {
   "cell_type": "markdown",
   "id": "5810007f",
   "metadata": {
    "papermill": {
     "duration": 0.026964,
     "end_time": "2021-08-06T02:04:49.442989",
     "exception": false,
     "start_time": "2021-08-06T02:04:49.416025",
     "status": "completed"
    },
    "tags": []
   },
   "source": [
    "**Let's see what are the features and the labels**"
   ]
  },
  {
   "cell_type": "markdown",
   "id": "f4d42525",
   "metadata": {
    "papermill": {
     "duration": 0.027212,
     "end_time": "2021-08-06T02:04:49.497478",
     "exception": false,
     "start_time": "2021-08-06T02:04:49.470266",
     "status": "completed"
    },
    "tags": []
   },
   "source": [
    "Let's visualise some of the images that we are trying to classify"
   ]
  },
  {
   "cell_type": "code",
   "execution_count": null,
   "id": "8dddfd99",
   "metadata": {},
   "outputs": [],
   "source": []
  },
  {
   "cell_type": "code",
   "execution_count": 11,
   "id": "8e7cfac1",
   "metadata": {
    "execution": {
     "iopub.execute_input": "2021-08-06T02:04:49.556129Z",
     "iopub.status.busy": "2021-08-06T02:04:49.555430Z",
     "iopub.status.idle": "2021-08-06T02:04:50.739291Z",
     "shell.execute_reply": "2021-08-06T02:04:50.739797Z",
     "shell.execute_reply.started": "2021-08-06T00:11:04.162286Z"
    },
    "papermill": {
     "duration": 1.214266,
     "end_time": "2021-08-06T02:04:50.739963",
     "exception": false,
     "start_time": "2021-08-06T02:04:49.525697",
     "status": "completed"
    },
    "tags": []
   },
   "outputs": [
    {
     "ename": "IndexError",
     "evalue": "list index out of range",
     "output_type": "error",
     "traceback": [
      "\u001b[1;31m---------------------------------------------------------------------------\u001b[0m",
      "\u001b[1;31mIndexError\u001b[0m                                Traceback (most recent call last)",
      "\u001b[1;32m~\\AppData\\Local\\Temp/ipykernel_4256/3983582626.py\u001b[0m in \u001b[0;36m<module>\u001b[1;34m\u001b[0m\n\u001b[0;32m      8\u001b[0m     \u001b[0mplt\u001b[0m\u001b[1;33m.\u001b[0m\u001b[0mimshow\u001b[0m\u001b[1;33m(\u001b[0m\u001b[0mx_train\u001b[0m\u001b[1;33m[\u001b[0m\u001b[0mi\u001b[0m\u001b[1;33m]\u001b[0m\u001b[1;33m.\u001b[0m\u001b[0mreshape\u001b[0m\u001b[1;33m(\u001b[0m\u001b[1;33m(\u001b[0m\u001b[1;36m28\u001b[0m\u001b[1;33m,\u001b[0m\u001b[1;36m28\u001b[0m\u001b[1;33m)\u001b[0m\u001b[1;33m)\u001b[0m\u001b[1;33m)\u001b[0m\u001b[1;33m\u001b[0m\u001b[1;33m\u001b[0m\u001b[0m\n\u001b[0;32m      9\u001b[0m     \u001b[0mlabel_index\u001b[0m \u001b[1;33m=\u001b[0m \u001b[0mint\u001b[0m\u001b[1;33m(\u001b[0m\u001b[0my_train\u001b[0m\u001b[1;33m[\u001b[0m\u001b[0mi\u001b[0m\u001b[1;33m]\u001b[0m\u001b[1;33m)\u001b[0m\u001b[1;33m\u001b[0m\u001b[1;33m\u001b[0m\u001b[0m\n\u001b[1;32m---> 10\u001b[1;33m     \u001b[0mplt\u001b[0m\u001b[1;33m.\u001b[0m\u001b[0mtitle\u001b[0m\u001b[1;33m(\u001b[0m\u001b[0mclass_names\u001b[0m\u001b[1;33m[\u001b[0m\u001b[0mlabel_index\u001b[0m\u001b[1;33m]\u001b[0m\u001b[1;33m)\u001b[0m\u001b[1;33m\u001b[0m\u001b[1;33m\u001b[0m\u001b[0m\n\u001b[0m\u001b[0;32m     11\u001b[0m \u001b[0mplt\u001b[0m\u001b[1;33m.\u001b[0m\u001b[0mshow\u001b[0m\u001b[1;33m(\u001b[0m\u001b[1;33m)\u001b[0m\u001b[1;33m\u001b[0m\u001b[1;33m\u001b[0m\u001b[0m\n",
      "\u001b[1;31mIndexError\u001b[0m: list index out of range"
     ]
    },
    {
     "data": {
      "image/png": "[encoded data removed]",
      "text/plain": [
       "<Figure size 720x720 with 1 Axes>"
      ]
     },
     "metadata": {},
     "output_type": "display_data"
    }
   ],
   "source": [
    "class_names = ['T_shirt/top', 'Trouser']\n",
    "plt.figure(figsize=(10, 10))\n",
    "for i in range(36):\n",
    "    plt.subplot(6, 6, i + 1)\n",
    "    plt.xticks([])\n",
    "    plt.yticks([])\n",
    "    plt.grid(False)\n",
    "    plt.imshow(x_train[i].reshape((28,28)))\n",
    "    label_index = int(y_train[i])\n",
    "    plt.title(class_names[label_index])\n",
    "plt.show()"
   ]
  },
  {
   "cell_type": "code",
   "execution_count": 12,
   "id": "716dcad6",
   "metadata": {
    "execution": {
     "iopub.execute_input": "2021-08-06T02:04:50.831882Z",
     "iopub.status.busy": "2021-08-06T02:04:50.831184Z",
     "iopub.status.idle": "2021-08-06T02:04:51.162409Z",
     "shell.execute_reply": "2021-08-06T02:04:51.161679Z",
     "shell.execute_reply.started": "2021-08-05T22:19:18.677404Z"
    },
    "papermill": {
     "duration": 0.392997,
     "end_time": "2021-08-06T02:04:51.162559",
     "exception": false,
     "start_time": "2021-08-06T02:04:50.769562",
     "status": "completed"
    },
    "tags": []
   },
   "outputs": [
    {
     "ename": "NameError",
     "evalue": "name 'train_labels' is not defined",
     "output_type": "error",
     "traceback": [
      "\u001b[1;31m---------------------------------------------------------------------------\u001b[0m",
      "\u001b[1;31mNameError\u001b[0m                                 Traceback (most recent call last)",
      "\u001b[1;32m~\\AppData\\Local\\Temp/ipykernel_4256/4106678918.py\u001b[0m in \u001b[0;36m<module>\u001b[1;34m\u001b[0m\n\u001b[0;32m      1\u001b[0m \u001b[0mplt\u001b[0m\u001b[1;33m.\u001b[0m\u001b[0mfigure\u001b[0m\u001b[1;33m(\u001b[0m\u001b[1;33m)\u001b[0m\u001b[1;33m\u001b[0m\u001b[1;33m\u001b[0m\u001b[0m\n\u001b[1;32m----> 2\u001b[1;33m \u001b[0mx1\u001b[0m \u001b[1;33m=\u001b[0m \u001b[0mtrain_labels\u001b[0m\u001b[1;33m\u001b[0m\u001b[1;33m\u001b[0m\u001b[0m\n\u001b[0m\u001b[0;32m      3\u001b[0m plt.hist(x1, range = (0, 1), bins = 2, color = 'blue',\n\u001b[0;32m      4\u001b[0m             edgecolor = 'black')\n\u001b[0;32m      5\u001b[0m \u001b[0mplt\u001b[0m\u001b[1;33m.\u001b[0m\u001b[0mxlabel\u001b[0m\u001b[1;33m(\u001b[0m\u001b[1;34m'classes'\u001b[0m\u001b[1;33m)\u001b[0m\u001b[1;33m\u001b[0m\u001b[1;33m\u001b[0m\u001b[0m\n",
      "\u001b[1;31mNameError\u001b[0m: name 'train_labels' is not defined"
     ]
    },
    {
     "data": {
      "text/plain": [
       "<Figure size 432x288 with 0 Axes>"
      ]
     },
     "metadata": {},
     "output_type": "display_data"
    }
   ],
   "source": [
    "plt.figure()\n",
    "x1 = train_labels\n",
    "plt.hist(x1, range = (0, 1), bins = 2, color = 'blue',\n",
    "            edgecolor = 'black')\n",
    "plt.xlabel('classes')\n",
    "plt.ylabel('number')\n",
    "plt.title('histogram for training labels')\n",
    "\n",
    "plt.figure()\n",
    "x2 = test_labels\n",
    "plt.hist(x2, range = (0, 1), bins = 2, color = 'red',\n",
    "            edgecolor = 'black')\n",
    "plt.xlabel('classes')\n",
    "plt.ylabel('number')\n",
    "plt.title('histogram for testing labels')"
   ]
  },
  {
   "cell_type": "markdown",
   "id": "c4e2722a",
   "metadata": {
    "papermill": {
     "duration": 0.031056,
     "end_time": "2021-08-06T02:04:51.225203",
     "exception": false,
     "start_time": "2021-08-06T02:04:51.194147",
     "status": "completed"
    },
    "tags": []
   },
   "source": [
    "**Scaling the data**"
   ]
  },
  {
   "cell_type": "code",
   "execution_count": 13,
   "id": "3a04f4b7",
   "metadata": {},
   "outputs": [],
   "source": [
    "from sklearn.preprocessing import StandardScaler"
   ]
  },
  {
   "cell_type": "code",
   "execution_count": 14,
   "id": "ea26ab36",
   "metadata": {
    "execution": {
     "iopub.execute_input": "2021-08-06T02:04:51.293398Z",
     "iopub.status.busy": "2021-08-06T02:04:51.292733Z",
     "iopub.status.idle": "2021-08-06T02:04:52.986968Z",
     "shell.execute_reply": "2021-08-06T02:04:52.986303Z",
     "shell.execute_reply.started": "2021-08-06T00:11:10.696501Z"
    },
    "papermill": {
     "duration": 1.730587,
     "end_time": "2021-08-06T02:04:52.987109",
     "exception": false,
     "start_time": "2021-08-06T02:04:51.256522",
     "status": "completed"
    },
    "tags": []
   },
   "outputs": [],
   "source": [
    "Xtrain=StandardScaler().fit_transform(x_train)\n",
    "Xtest=StandardScaler().fit_transform(x_test)"
   ]
  },
  {
   "cell_type": "markdown",
   "id": "b17af97a",
   "metadata": {
    "papermill": {
     "duration": 0.031538,
     "end_time": "2021-08-06T02:04:53.049782",
     "exception": false,
     "start_time": "2021-08-06T02:04:53.018244",
     "status": "completed"
    },
    "tags": []
   },
   "source": [
    "# **Algorithm number 1 : Support Vector Machine**"
   ]
  },
  {
   "cell_type": "code",
   "execution_count": 15,
   "id": "d6f3c1c4",
   "metadata": {},
   "outputs": [],
   "source": [
    "# Ignore warnings :\n",
    "import warnings\n",
    "warnings.filterwarnings('ignore')\n",
    "\n",
    "\n",
    "# Handle table-like data and matrices :\n",
    "import numpy as np\n",
    "import pandas as pd\n",
    "import math \n",
    "import itertools\n",
    "\n",
    "\n",
    "\n",
    "# Modelling Algorithms :\n",
    "\n",
    "# Classification\n",
    "from sklearn.tree import DecisionTreeClassifier\n",
    "from sklearn.linear_model import LogisticRegression\n",
    "from sklearn.neighbors import KNeighborsClassifier\n",
    "from sklearn.naive_bayes import GaussianNB\n",
    "from sklearn.svm import SVC, LinearSVC\n",
    "from sklearn.ensemble import RandomForestClassifier , GradientBoostingClassifier\n",
    "from sklearn.discriminant_analysis import LinearDiscriminantAnalysis , QuadraticDiscriminantAnalysis\n",
    "\n",
    "# Regression\n",
    "from sklearn.linear_model import LinearRegression,Ridge,Lasso,RidgeCV, ElasticNet\n",
    "from sklearn.ensemble import RandomForestRegressor,BaggingRegressor,GradientBoostingRegressor,AdaBoostRegressor \n",
    "from sklearn.svm import SVR\n",
    "from sklearn.neighbors import KNeighborsRegressor\n",
    "from sklearn.neural_network import MLPRegressor\n",
    "\n",
    "\n",
    "\n",
    "\n",
    "# Modelling Helpers :\n",
    "\n",
    "#from sklearn.preprocessing import Imputer , Normalizer , scale\n",
    "from sklearn.model_selection import train_test_split\n",
    "from sklearn.metrics import confusion_matrix, classification_report\n",
    "from sklearn.feature_selection import RFECV\n",
    "from sklearn.model_selection import GridSearchCV , KFold , cross_val_score\n",
    "\n",
    "\n",
    "\n",
    "#preprocessing :\n",
    "#from sklearn.preprocessing import MinMaxScaler , StandardScaler, Imputer, LabelEncoder\n",
    "\n",
    "\n",
    "\n",
    "#evaluation metrics :\n",
    "\n",
    "# Regression\n",
    "from sklearn.metrics import mean_squared_log_error,mean_squared_error, r2_score,mean_absolute_error \n",
    "\n",
    "# Classification\n",
    "from sklearn.metrics import accuracy_score,precision_score,recall_score,f1_score  \n",
    "\n",
    "\n",
    "# Deep Learning Libraries\n",
    "from keras.models import Sequential, load_model\n",
    "from keras.layers import Dense, Dropout, Flatten\n",
    "from keras.layers import Conv2D, MaxPooling2D, BatchNormalization\n",
    "#from keras.optimizers import Adam,SGD,Adagrad,Adadelta,RMSprop\n",
    "from keras.preprocessing.image import ImageDataGenerator\n",
    "from keras.callbacks import ReduceLROnPlateau, LearningRateScheduler\n",
    "#from keras.utils import to_categorical\n",
    "\n",
    "\n",
    "\n",
    "# Visualisation\n",
    "import matplotlib as mpl\n",
    "import matplotlib.pyplot as plt\n",
    "import matplotlib.pylab as pylab\n",
    "import seaborn as sns\n",
    "#import missingno as msno\n",
    "\n",
    "\n",
    "\n",
    "# Configure visualisations\n",
    "%matplotlib inline\n",
    "mpl.style.use( 'ggplot' )\n",
    "plt.style.use('fivethirtyeight')\n",
    "sns.set(context=\"notebook\", palette=\"dark\", style = 'whitegrid' , color_codes=True)"
   ]
  },
  {
   "cell_type": "markdown",
   "id": "d8eb81ff",
   "metadata": {
    "papermill": {
     "duration": 0.032123,
     "end_time": "2021-08-06T02:04:53.113309",
     "exception": false,
     "start_time": "2021-08-06T02:04:53.081186",
     "status": "completed"
    },
    "tags": []
   },
   "source": [
    "We scale the training data and feed it to the SVC algorithm"
   ]
  },
  {
   "cell_type": "code",
   "execution_count": 16,
   "id": "f5d2f333",
   "metadata": {},
   "outputs": [],
   "source": [
    "from sklearn import svm"
   ]
  },
  {
   "cell_type": "code",
   "execution_count": 17,
   "id": "0c5b9121",
   "metadata": {
    "execution": {
     "iopub.execute_input": "2021-08-06T02:19:58.618309Z",
     "iopub.status.busy": "2021-08-06T02:19:58.617215Z",
     "iopub.status.idle": "2021-08-06T02:19:58.622653Z",
     "shell.execute_reply": "2021-08-06T02:19:58.623346Z",
     "shell.execute_reply.started": "2021-08-06T00:45:37.008736Z"
    },
    "papermill": {
     "duration": 0.042989,
     "end_time": "2021-08-06T02:19:58.623656",
     "exception": false,
     "start_time": "2021-08-06T02:19:58.580667",
     "status": "completed"
    },
    "tags": []
   },
   "outputs": [
    {
     "ename": "NameError",
     "evalue": "name 'y1' is not defined",
     "output_type": "error",
     "traceback": [
      "\u001b[1;31m---------------------------------------------------------------------------\u001b[0m",
      "\u001b[1;31mNameError\u001b[0m                                 Traceback (most recent call last)",
      "\u001b[1;32m~\\AppData\\Local\\Temp/ipykernel_4256/3154047348.py\u001b[0m in \u001b[0;36m<module>\u001b[1;34m\u001b[0m\n\u001b[1;32m----> 1\u001b[1;33m \u001b[0mprint\u001b[0m\u001b[1;33m(\u001b[0m\u001b[1;34m'the accuracy of SVM is : '\u001b[0m \u001b[1;33m+\u001b[0m \u001b[0mstr\u001b[0m\u001b[1;33m(\u001b[0m\u001b[0maccuracy_score\u001b[0m\u001b[1;33m(\u001b[0m\u001b[0my1\u001b[0m\u001b[1;33m,\u001b[0m \u001b[0my2\u001b[0m\u001b[1;33m,\u001b[0m \u001b[0mnormalize\u001b[0m\u001b[1;33m=\u001b[0m\u001b[1;32mTrue\u001b[0m\u001b[1;33m)\u001b[0m\u001b[1;33m)\u001b[0m\u001b[1;33m)\u001b[0m\u001b[1;33m\u001b[0m\u001b[1;33m\u001b[0m\u001b[0m\n\u001b[0m",
      "\u001b[1;31mNameError\u001b[0m: name 'y1' is not defined"
     ]
    }
   ],
   "source": [
    "print('the accuracy of SVM is : ' + str(accuracy_score(y1, y2, normalize=True)))"
   ]
  },
  {
   "cell_type": "code",
   "execution_count": 18,
   "id": "1a1ce22b",
   "metadata": {},
   "outputs": [
    {
     "name": "stdout",
     "output_type": "stream",
     "text": [
      "Precision Score :  0.0139\n",
      "Recall Score :  0.0139\n",
      "SVM Model Accuracy :  0.01\n",
      "Classification Report :\n",
      "               precision    recall  f1-score   support\n",
      "\n",
      "           0       0.01      0.01      0.01      1000\n",
      "           1       0.00      0.00      0.00      1000\n",
      "           2       0.20      0.00      0.01      1000\n",
      "           3       0.01      0.00      0.01      1000\n",
      "           4       0.27      0.00      0.01      1000\n",
      "           5       0.03      0.10      0.04      1000\n",
      "           6       0.23      0.01      0.01      1000\n",
      "           7       0.00      0.00      0.00      1000\n",
      "           8       0.32      0.01      0.02      1000\n",
      "           9       0.00      0.00      0.00      1000\n",
      "\n",
      "    accuracy                           0.01     10000\n",
      "   macro avg       0.11      0.01      0.01     10000\n",
      "weighted avg       0.11      0.01      0.01     10000\n",
      "\n"
     ]
    }
   ],
   "source": [
    "model2=svm.SVC(kernel='poly',degree=2)\n",
    "model2.fit(Xtrain,y_train)\n",
    "model2.predict(x_test)\n",
    "y_pred= model2.predict(x_test)\n",
    "\n",
    "\n",
    "#fscore = f1_score(y_valid1,y_pred_random_forest)\n",
    "\n",
    "acc_SVM= accuracy_score(y_test, y_pred)\n",
    "\n",
    "\n",
    "print(\"Precision Score : \",precision_score(y_test, y_pred, \n",
    "                                           pos_label='positive',\n",
    "                                           average='micro'))\n",
    "print(\"Recall Score : \",recall_score(y_test, y_pred, \n",
    "                                           pos_label='positive',\n",
    "                                           average='micro'))\n",
    "\n",
    "\n",
    "\n",
    "\n",
    "\n",
    "print(\"SVM Model Accuracy : \",round(acc_SVM,2))\n",
    "#print(\"Random Forest Model F1-score : \",round(fscore,2))\n",
    "print(\"Classification Report :\\n\", classification_report(y_test,y_pred))"
   ]
  },
  {
   "cell_type": "code",
   "execution_count": 19,
   "id": "de7358b4",
   "metadata": {},
   "outputs": [
    {
     "name": "stdout",
     "output_type": "stream",
     "text": [
      "Precision Score :  0.8803\n",
      "Recall Score :  0.8803\n",
      "Random Forest Model Accuracy :  0.88\n",
      "Classification Report :\n",
      "               precision    recall  f1-score   support\n",
      "\n",
      "           0       0.80      0.85      0.82      1000\n",
      "           1       0.99      0.97      0.98      1000\n",
      "           2       0.79      0.80      0.80      1000\n",
      "           3       0.89      0.92      0.91      1000\n",
      "           4       0.79      0.86      0.83      1000\n",
      "           5       0.97      0.95      0.96      1000\n",
      "           6       0.75      0.60      0.67      1000\n",
      "           7       0.92      0.93      0.92      1000\n",
      "           8       0.95      0.97      0.96      1000\n",
      "           9       0.93      0.95      0.94      1000\n",
      "\n",
      "    accuracy                           0.88     10000\n",
      "   macro avg       0.88      0.88      0.88     10000\n",
      "weighted avg       0.88      0.88      0.88     10000\n",
      "\n"
     ]
    }
   ],
   "source": [
    "random_forest_model = RandomForestClassifier(max_depth=50, random_state= 59, n_estimators= 50)\n",
    "random_forest_model.fit(x_train, y_train)\n",
    "y_pred = random_forest_model.predict(x_test)\n",
    "\n",
    "#fscore = f1_score(y_valid1,y_pred_random_forest)\n",
    "\n",
    "acc_random_forest = accuracy_score(y_test, y_pred)\n",
    "\n",
    "\n",
    "print(\"Precision Score : \",precision_score(y_test, y_pred, \n",
    "                                           pos_label='positive',\n",
    "                                           average='micro'))\n",
    "print(\"Recall Score : \",recall_score(y_test, y_pred, \n",
    "                                           pos_label='positive',\n",
    "                                           average='micro'))\n",
    "\n",
    "\n",
    "\n",
    "\n",
    "\n",
    "print(\"Random Forest Model Accuracy : \",round(acc_random_forest,2))\n",
    "#print(\"Random Forest Model F1-score : \",round(fscore,2))\n",
    "print(\"Classification Report :\\n\", classification_report(y_test,y_pred))"
   ]
  },
  {
   "cell_type": "code",
   "execution_count": 20,
   "id": "bc99d309",
   "metadata": {},
   "outputs": [
    {
     "name": "stdout",
     "output_type": "stream",
     "text": [
      "Precision Score :  0.8756666666666667\n",
      "Recall Score :  0.8756666666666667\n",
      "Random Forest Model Accuracy :  0.88\n",
      "Classification Report :\n",
      "               precision    recall  f1-score   support\n",
      "\n",
      "           0       0.81      0.86      0.84      1204\n",
      "           1       0.99      0.96      0.98      1168\n",
      "           2       0.77      0.82      0.80      1207\n",
      "           3       0.87      0.92      0.90      1244\n",
      "           4       0.77      0.81      0.79      1208\n",
      "           5       0.96      0.96      0.96      1225\n",
      "           6       0.73      0.59      0.66      1237\n",
      "           7       0.92      0.95      0.93      1147\n",
      "           8       0.96      0.97      0.96      1183\n",
      "           9       0.95      0.94      0.94      1177\n",
      "\n",
      "    accuracy                           0.88     12000\n",
      "   macro avg       0.88      0.88      0.88     12000\n",
      "weighted avg       0.87      0.88      0.87     12000\n",
      "\n"
     ]
    }
   ],
   "source": [
    "y_pred_random_forest = random_forest_model.predict(val_x)\n",
    "\n",
    "#fscore = f1_score(y_valid1,y_pred_random_forest)\n",
    "\n",
    "acc_random_forest = accuracy_score(val_y, y_pred_random_forest)\n",
    "\n",
    "\n",
    "print(\"Precision Score : \",precision_score(val_y, y_pred_random_forest, \n",
    "                                           pos_label='positive',\n",
    "                                           average='micro'))\n",
    "print(\"Recall Score : \",recall_score(val_y, y_pred_random_forest, \n",
    "                                           pos_label='positive',\n",
    "                                           average='micro'))\n",
    "\n",
    "\n",
    "\n",
    "\n",
    "\n",
    "print(\"Random Forest Model Accuracy : \",round(acc_random_forest,2))\n",
    "#print(\"Random Forest Model F1-score : \",round(fscore,2))\n",
    "print(\"Classification Report :\\n\", classification_report(val_y,y_pred_random_forest))\n",
    "\n"
   ]
  },
  {
   "cell_type": "markdown",
   "id": "d9ba8b54",
   "metadata": {
    "papermill": {
     "duration": 0.031841,
     "end_time": "2021-08-06T02:19:58.753349",
     "exception": false,
     "start_time": "2021-08-06T02:19:58.721508",
     "status": "completed"
    },
    "tags": []
   },
   "source": [
    "# **Algorithm number 2 : K-nearest neighbours**\n"
   ]
  },
  {
   "cell_type": "code",
   "execution_count": 21,
   "id": "6f6d8d02",
   "metadata": {
    "execution": {
     "iopub.execute_input": "2021-08-06T02:19:58.823030Z",
     "iopub.status.busy": "2021-08-06T02:19:58.822283Z",
     "iopub.status.idle": "2021-08-06T02:34:36.749138Z",
     "shell.execute_reply": "2021-08-06T02:34:36.748510Z",
     "shell.execute_reply.started": "2021-08-06T00:46:31.834201Z"
    },
    "papermill": {
     "duration": 877.963743,
     "end_time": "2021-08-06T02:34:36.749292",
     "exception": false,
     "start_time": "2021-08-06T02:19:58.785549",
     "status": "completed"
    },
    "tags": []
   },
   "outputs": [],
   "source": [
    "model1=KNeighborsClassifier(n_neighbors=3) # we choose n=3\n",
    "model1.fit(Xtrain,y_train)\n",
    "\n",
    "y_pred = model1.predict(x_test)\n"
   ]
  },
  {
   "cell_type": "code",
   "execution_count": 22,
   "id": "00996b20",
   "metadata": {
    "execution": {
     "iopub.execute_input": "2021-08-06T02:34:36.818482Z",
     "iopub.status.busy": "2021-08-06T02:34:36.817855Z",
     "iopub.status.idle": "2021-08-06T02:34:36.822398Z",
     "shell.execute_reply": "2021-08-06T02:34:36.821918Z",
     "shell.execute_reply.started": "2021-08-06T01:02:42.24079Z"
    },
    "papermill": {
     "duration": 0.040753,
     "end_time": "2021-08-06T02:34:36.822533",
     "exception": false,
     "start_time": "2021-08-06T02:34:36.781780",
     "status": "completed"
    },
    "tags": []
   },
   "outputs": [
    {
     "ename": "NameError",
     "evalue": "name 'y1' is not defined",
     "output_type": "error",
     "traceback": [
      "\u001b[1;31m---------------------------------------------------------------------------\u001b[0m",
      "\u001b[1;31mNameError\u001b[0m                                 Traceback (most recent call last)",
      "\u001b[1;32m~\\AppData\\Local\\Temp/ipykernel_4256/442653055.py\u001b[0m in \u001b[0;36m<module>\u001b[1;34m\u001b[0m\n\u001b[1;32m----> 1\u001b[1;33m \u001b[0mprint\u001b[0m\u001b[1;33m(\u001b[0m\u001b[1;34m\"the accuracy of KNN is : \"\u001b[0m \u001b[1;33m+\u001b[0m \u001b[0mstr\u001b[0m\u001b[1;33m(\u001b[0m\u001b[0maccuracy_score\u001b[0m\u001b[1;33m(\u001b[0m\u001b[0my1\u001b[0m\u001b[1;33m,\u001b[0m \u001b[0my2_K\u001b[0m\u001b[1;33m,\u001b[0m \u001b[0mnormalize\u001b[0m\u001b[1;33m=\u001b[0m\u001b[1;32mTrue\u001b[0m\u001b[1;33m)\u001b[0m\u001b[1;33m)\u001b[0m\u001b[1;33m)\u001b[0m\u001b[1;33m\u001b[0m\u001b[1;33m\u001b[0m\u001b[0m\n\u001b[0m",
      "\u001b[1;31mNameError\u001b[0m: name 'y1' is not defined"
     ]
    }
   ],
   "source": [
    "print(\"the accuracy of KNN is : \" + str(accuracy_score(y1, y2_K, normalize=True)))"
   ]
  },
  {
   "cell_type": "code",
   "execution_count": 23,
   "id": "59869704",
   "metadata": {},
   "outputs": [
    {
     "name": "stdout",
     "output_type": "stream",
     "text": [
      "Precision Score :  0.3705\n",
      "Recall Score :  0.3705\n",
      "Random Forest Model Accuracy :  0.37\n",
      "Classification Report :\n",
      "               precision    recall  f1-score   support\n",
      "\n",
      "           0       0.33      0.85      0.47      1000\n",
      "           1       0.80      0.51      0.63      1000\n",
      "           2       0.40      0.71      0.51      1000\n",
      "           3       0.68      0.04      0.08      1000\n",
      "           4       0.50      0.42      0.46      1000\n",
      "           5       1.00      0.00      0.00      1000\n",
      "           6       0.28      0.14      0.19      1000\n",
      "           7       0.06      0.00      0.00      1000\n",
      "           8       0.20      0.56      0.29      1000\n",
      "           9       0.63      0.46      0.53      1000\n",
      "\n",
      "    accuracy                           0.37     10000\n",
      "   macro avg       0.49      0.37      0.32     10000\n",
      "weighted avg       0.49      0.37      0.32     10000\n",
      "\n"
     ]
    }
   ],
   "source": [
    "\n",
    "\n",
    "#fscore = f1_score(y_valid1,y_pred_random_forest)\n",
    "\n",
    "acc_KNN = accuracy_score(y_test, y_pred)\n",
    "\n",
    "\n",
    "print(\"Precision Score : \",precision_score(y_test, y_pred, \n",
    "                                           pos_label='positive',\n",
    "                                           average='micro'))\n",
    "print(\"Recall Score : \",recall_score(y_test, y_pred, \n",
    "                                           pos_label='positive',\n",
    "                                           average='micro'))\n",
    "\n",
    "\n",
    "\n",
    "\n",
    "\n",
    "print(\"Random Forest Model Accuracy : \",round(acc_KNN,2))\n",
    "#print(\"Random Forest Model F1-score : \",round(fscore,2))\n",
    "print(\"Classification Report :\\n\", classification_report(y_test,y_pred))"
   ]
  },
  {
   "cell_type": "code",
   "execution_count": 24,
   "id": "6ea95586",
   "metadata": {},
   "outputs": [
    {
     "name": "stdout",
     "output_type": "stream",
     "text": [
      "Precision Score :  0.846\n",
      "Recall Score :  0.846\n",
      "Logistic Model Accuracy :  0.85\n",
      "Classification Report :\n",
      "               precision    recall  f1-score   support\n",
      "\n",
      "           0       0.79      0.81      0.80      1000\n",
      "           1       0.94      0.97      0.96      1000\n",
      "           2       0.77      0.76      0.77      1000\n",
      "           3       0.83      0.86      0.85      1000\n",
      "           4       0.76      0.81      0.78      1000\n",
      "           5       0.93      0.90      0.91      1000\n",
      "           6       0.67      0.56      0.61      1000\n",
      "           7       0.90      0.93      0.91      1000\n",
      "           8       0.93      0.92      0.92      1000\n",
      "           9       0.92      0.94      0.93      1000\n",
      "\n",
      "    accuracy                           0.85     10000\n",
      "   macro avg       0.84      0.85      0.84     10000\n",
      "weighted avg       0.84      0.85      0.84     10000\n",
      "\n"
     ]
    }
   ],
   "source": [
    "model = LogisticRegression(solver='liblinear', C=10.0, random_state=0)\n",
    "model.fit(x_train, y_train)\n",
    "\n",
    "y_pred =model.predict(x_test)\n",
    "\n",
    "#fscore = f1_score(y_valid1,y_pred_random_forest)\n",
    "\n",
    "acc_Logistic = accuracy_score(y_test, y_pred)\n",
    "\n",
    "\n",
    "print(\"Precision Score : \",precision_score(y_test, y_pred, \n",
    "                                           pos_label='positive',\n",
    "                                           average='micro'))\n",
    "print(\"Recall Score : \",recall_score(y_test, y_pred, \n",
    "                                           pos_label='positive',\n",
    "                                           average='micro'))\n",
    "\n",
    "\n",
    "\n",
    "\n",
    "\n",
    "print(\"Logistic Model Accuracy : \",round(acc_Logistic,2))\n",
    "#print(\"Random Forest Model F1-score : \",round(fscore,2))\n",
    "print(\"Classification Report :\\n\", classification_report(y_test,y_pred))"
   ]
  },
  {
   "cell_type": "code",
   "execution_count": 25,
   "id": "cb930408",
   "metadata": {},
   "outputs": [
    {
     "data": {
      "text/plain": [
       "array([[814,   8,  19,  49,   5,   3,  84,   0,  17,   1],\n",
       "       [  4, 971,   4,  13,   1,   2,   4,   1,   0,   0],\n",
       "       [ 20,   6, 764,  12, 112,   0,  74,   0,  12,   0],\n",
       "       [ 29,  25,  12, 864,  34,   1,  24,   2,   9,   0],\n",
       "       [  2,   3,  73,  36, 808,   0,  73,   0,   4,   1],\n",
       "       [  2,   3,   1,   2,   0, 895,   2,  52,   9,  34],\n",
       "       [154,  10, 108,  47,  96,   0, 564,   0,  20,   1],\n",
       "       [  0,   0,   0,   0,   0,  30,   0, 925,   1,  44],\n",
       "       [  7,   6,   6,  12,   3,  12,  21,  12, 916,   5],\n",
       "       [  0,   0,   0,   0,   1,  18,   0,  41,   1, 939]], dtype=int64)"
      ]
     },
     "execution_count": 25,
     "metadata": {},
     "output_type": "execute_result"
    }
   ],
   "source": [
    "confusion_matrix(y_test, y_pred)"
   ]
  },
  {
   "cell_type": "markdown",
   "id": "5293811c",
   "metadata": {
    "papermill": {
     "duration": 0.031698,
     "end_time": "2021-08-06T02:34:36.952790",
     "exception": false,
     "start_time": "2021-08-06T02:34:36.921092",
     "status": "completed"
    },
    "tags": []
   },
   "source": [
    "# **Algorithm number 3 : Fully connected neural network**"
   ]
  },
  {
   "cell_type": "code",
   "execution_count": null,
   "id": "3ce5c360",
   "metadata": {
    "execution": {
     "iopub.execute_input": "2021-08-06T02:34:37.025916Z",
     "iopub.status.busy": "2021-08-06T02:34:37.025190Z",
     "iopub.status.idle": "2021-08-06T02:40:35.700125Z",
     "shell.execute_reply": "2021-08-06T02:40:35.699497Z",
     "shell.execute_reply.started": "2021-08-05T22:23:31.901045Z"
    },
    "papermill": {
     "duration": 358.71537,
     "end_time": "2021-08-06T02:40:35.700274",
     "exception": false,
     "start_time": "2021-08-06T02:34:36.984904",
     "status": "completed"
    },
    "tags": []
   },
   "outputs": [],
   "source": [
    "model4=tf.keras.Sequential()\n",
    "model4.add(tf.keras.layers.Dense(150))\n",
    "model4.add(tf.keras.layers.Dense(10))\n",
    "\n",
    "model4.compile(optimizer='adam',\n",
    "              loss=tf.keras.losses.SparseCategoricalCrossentropy(from_logits=True),\n",
    "              metrics=['accuracy'])\n",
    "\n",
    "log_dir = \"logs/fit/\" + datetime.datetime.now().strftime(\"%Y%m%d-%H%M%S\")\n",
    "tensorboard_callback = tf.keras.callbacks.TensorBoard(log_dir=log_dir, histogram_freq=1)\n",
    "\n",
    "history1 = model4.fit(X,train_labels,\n",
    "               epochs=20,\n",
    "               callbacks=[tensorboard_callback],\n",
    "               validation_data=(X_test,test_labels))\n",
    "\n"
   ]
  },
  {
   "cell_type": "code",
   "execution_count": null,
   "id": "a281bbe2",
   "metadata": {
    "execution": {
     "iopub.execute_input": "2021-08-06T02:40:39.469822Z",
     "iopub.status.busy": "2021-08-06T02:40:39.469179Z",
     "iopub.status.idle": "2021-08-06T02:40:41.245893Z",
     "shell.execute_reply": "2021-08-06T02:40:41.245146Z",
     "shell.execute_reply.started": "2021-08-05T22:58:44.763832Z"
    },
    "papermill": {
     "duration": 3.661532,
     "end_time": "2021-08-06T02:40:41.246044",
     "exception": false,
     "start_time": "2021-08-06T02:40:37.584512",
     "status": "completed"
    },
    "tags": []
   },
   "outputs": [],
   "source": [
    "score2 = model4.evaluate(X_test, test_labels, verbose=0)"
   ]
  },
  {
   "cell_type": "code",
   "execution_count": null,
   "id": "03fc0e07",
   "metadata": {
    "execution": {
     "iopub.execute_input": "2021-08-06T02:40:45.062633Z",
     "iopub.status.busy": "2021-08-06T02:40:45.061913Z",
     "iopub.status.idle": "2021-08-06T02:40:45.066196Z",
     "shell.execute_reply": "2021-08-06T02:40:45.066871Z",
     "shell.execute_reply.started": "2021-08-05T22:59:35.64506Z"
    },
    "papermill": {
     "duration": 1.931617,
     "end_time": "2021-08-06T02:40:45.067242",
     "exception": false,
     "start_time": "2021-08-06T02:40:43.135625",
     "status": "completed"
    },
    "tags": []
   },
   "outputs": [],
   "source": [
    "print('the accuracy of NN is : ' + str(score2[1]))"
   ]
  },
  {
   "cell_type": "markdown",
   "id": "b6ffcaff",
   "metadata": {
    "papermill": {
     "duration": 1.872449,
     "end_time": "2021-08-06T02:40:48.815989",
     "exception": false,
     "start_time": "2021-08-06T02:40:46.943540",
     "status": "completed"
    },
    "tags": []
   },
   "source": [
    "> the accuracy of NN is : 0.8461999893188477"
   ]
  },
  {
   "cell_type": "code",
   "execution_count": null,
   "id": "0abed219",
   "metadata": {
    "execution": {
     "iopub.execute_input": "2021-08-06T02:40:52.668382Z",
     "iopub.status.busy": "2021-08-06T02:40:52.667731Z",
     "iopub.status.idle": "2021-08-06T02:40:52.997129Z",
     "shell.execute_reply": "2021-08-06T02:40:52.996575Z",
     "shell.execute_reply.started": "2021-08-05T22:32:14.376392Z"
    },
    "papermill": {
     "duration": 2.225474,
     "end_time": "2021-08-06T02:40:52.997267",
     "exception": false,
     "start_time": "2021-08-06T02:40:50.771793",
     "status": "completed"
    },
    "tags": []
   },
   "outputs": [],
   "source": [
    "accuracy1 = history1.history['accuracy']\n",
    "val_accuracy1 = history1.history['val_accuracy']\n",
    "loss1 = history1.history['loss']\n",
    "val_loss1 = history1.history['val_loss']\n",
    "epochs1 = range(len(accuracy1))\n",
    "plt.plot(epochs1, accuracy1, 'bo', label='Training accuracy')\n",
    "plt.plot(epochs1, val_accuracy1, 'b', label='Validation accuracy')\n",
    "plt.title('Training and validation accuracy')\n",
    "plt.legend()\n",
    "plt.figure()\n",
    "plt.plot(epochs1, loss1, 'bo', label='Training loss')\n",
    "plt.plot(epochs1, val_loss1, 'b', label='Validation loss')\n",
    "plt.title('Training and validation loss')\n",
    "plt.legend()\n",
    "plt.show()"
   ]
  },
  {
   "cell_type": "markdown",
   "id": "6222b532",
   "metadata": {
    "papermill": {
     "duration": 1.876273,
     "end_time": "2021-08-06T02:40:56.815251",
     "exception": false,
     "start_time": "2021-08-06T02:40:54.938978",
     "status": "completed"
    },
    "tags": []
   },
   "source": []
  },
  {
   "cell_type": "markdown",
   "id": "4737a836",
   "metadata": {
    "papermill": {
     "duration": 1.886437,
     "end_time": "2021-08-06T02:41:00.642391",
     "exception": false,
     "start_time": "2021-08-06T02:40:58.755954",
     "status": "completed"
    },
    "tags": []
   },
   "source": [
    "# **Algorithm number 4 : Convolution Neural network**"
   ]
  },
  {
   "cell_type": "code",
   "execution_count": null,
   "id": "b9b66318",
   "metadata": {
    "execution": {
     "iopub.execute_input": "2021-08-06T02:41:04.537081Z",
     "iopub.status.busy": "2021-08-06T02:41:04.536423Z",
     "iopub.status.idle": "2021-08-06T02:41:04.626190Z",
     "shell.execute_reply": "2021-08-06T02:41:04.625639Z",
     "shell.execute_reply.started": "2021-08-05T22:32:41.261975Z"
    },
    "papermill": {
     "duration": 2.03636,
     "end_time": "2021-08-06T02:41:04.626338",
     "exception": false,
     "start_time": "2021-08-06T02:41:02.589978",
     "status": "completed"
    },
    "tags": []
   },
   "outputs": [],
   "source": [
    "input_shape = (28, 28, 1) \n",
    "\n",
    "\n",
    "model5 = tf.keras.models.Sequential()\n",
    "#the first convolution layer\n",
    "model5.add(tf.keras.layers.Conv2D(32, kernel_size=(3, 3),\n",
    "                 activation='relu',\n",
    "                 kernel_initializer='he_normal',\n",
    "                 input_shape=input_shape))\n",
    "model5.add(tf.keras.layers.MaxPooling2D((2, 2)))\n",
    "\n",
    "\n",
    "#the second convolution layer\n",
    "model5.add(tf.keras.layers.Conv2D(64, (3, 3), activation='relu'))\n",
    "model5.add(tf.keras.layers.MaxPooling2D(pool_size=(2, 2)))\n",
    "\n",
    "\n",
    "#the third convolution layer\n",
    "model5.add(tf.keras.layers.Conv2D(128, (3, 3), activation='relu'))\n",
    "\n",
    "\n",
    "#classificator, a fully connected neural network that takes the outcome of the convolution as an input\n",
    "model5.add(tf.keras.layers.Flatten())\n",
    "model5.add(tf.keras.layers.Dense(128, activation='relu'))\n",
    "model5.add(tf.keras.layers.Dropout(0.3))\n",
    "model5.add(tf.keras.layers.Dense(10, activation='softmax'))\n",
    "\n",
    "model5.compile(loss=tf.keras.losses.categorical_crossentropy,\n",
    "              optimizer=tf.keras.optimizers.Adam(),\n",
    "              metrics=['accuracy'])\n",
    "\n",
    "model5.summary()"
   ]
  },
  {
   "cell_type": "code",
   "execution_count": null,
   "id": "5630b3f4",
   "metadata": {
    "execution": {
     "iopub.execute_input": "2021-08-06T02:41:08.518351Z",
     "iopub.status.busy": "2021-08-06T02:41:08.517702Z",
     "iopub.status.idle": "2021-08-06T02:49:10.475899Z",
     "shell.execute_reply": "2021-08-06T02:49:10.475087Z",
     "shell.execute_reply.started": "2021-08-05T22:33:35.292005Z"
    },
    "papermill": {
     "duration": 483.853439,
     "end_time": "2021-08-06T02:49:10.476103",
     "exception": false,
     "start_time": "2021-08-06T02:41:06.622664",
     "status": "completed"
    },
    "tags": []
   },
   "outputs": [],
   "source": [
    "#reshaping the data for the convolution\n",
    "train_featuresQ=train_features.reshape(train_features.shape[0],28,28,1)\n",
    "test_featuresQ=test_features.reshape(test_features.shape[0],28,28,1)\n",
    "val_featuresQ=val_features.reshape(val_features.shape[0],28,28,1)\n",
    "\n",
    "train_featuresQ= train_featuresQ.astype('float32')\n",
    "test_featuresQ = test_featuresQ.astype('float32')\n",
    "val_featuresQ = val_featuresQ.astype('float32')\n",
    "train_featuresQ /= 255\n",
    "test_featuresQ /= 255\n",
    "val_featuresQ /= 255\n",
    "\n",
    "train_labelsQ=to_categorical(train_labels)\n",
    "test_labelsQ=to_categorical(test_labels)\n",
    "val_labelsQ=to_categorical(val_labels)\n",
    "\n",
    "history = model5.fit(train_featuresQ,train_labelsQ,\n",
    "                    batch_size=512,\n",
    "                    epochs=15,\n",
    "                    verbose=1,\n",
    "                    validation_data=(val_featuresQ, val_labelsQ))\n",
    "\n",
    "\n"
   ]
  },
  {
   "cell_type": "code",
   "execution_count": null,
   "id": "175756a9",
   "metadata": {
    "execution": {
     "iopub.execute_input": "2021-08-06T02:49:15.211679Z",
     "iopub.status.busy": "2021-08-06T02:49:15.211024Z",
     "iopub.status.idle": "2021-08-06T02:49:19.744217Z",
     "shell.execute_reply": "2021-08-06T02:49:19.744736Z",
     "shell.execute_reply.started": "2021-08-05T22:41:55.63906Z"
    },
    "papermill": {
     "duration": 6.927,
     "end_time": "2021-08-06T02:49:19.744928",
     "exception": false,
     "start_time": "2021-08-06T02:49:12.817928",
     "status": "completed"
    },
    "tags": []
   },
   "outputs": [],
   "source": [
    "score = model5.evaluate(test_featuresQ, test_labelsQ, verbose=0)"
   ]
  },
  {
   "cell_type": "code",
   "execution_count": null,
   "id": "b07dc34b",
   "metadata": {
    "execution": {
     "iopub.execute_input": "2021-08-06T02:49:24.382316Z",
     "iopub.status.busy": "2021-08-06T02:49:24.381446Z",
     "iopub.status.idle": "2021-08-06T02:49:24.384761Z",
     "shell.execute_reply": "2021-08-06T02:49:24.385766Z",
     "shell.execute_reply.started": "2021-08-05T22:51:54.645207Z"
    },
    "papermill": {
     "duration": 2.318829,
     "end_time": "2021-08-06T02:49:24.386006",
     "exception": false,
     "start_time": "2021-08-06T02:49:22.067177",
     "status": "completed"
    },
    "tags": []
   },
   "outputs": [],
   "source": [
    "print('the accuracy of CNN is : ' + str(score[1]))"
   ]
  },
  {
   "cell_type": "markdown",
   "id": "8bad0f66",
   "metadata": {
    "papermill": {
     "duration": 2.341531,
     "end_time": "2021-08-06T02:49:29.091968",
     "exception": false,
     "start_time": "2021-08-06T02:49:26.750437",
     "status": "completed"
    },
    "tags": []
   },
   "source": [
    "> the accuracy of CNN is : 0.9185000061988831"
   ]
  },
  {
   "cell_type": "code",
   "execution_count": null,
   "id": "acab6dc4",
   "metadata": {
    "execution": {
     "iopub.execute_input": "2021-08-06T02:49:33.799374Z",
     "iopub.status.busy": "2021-08-06T02:49:33.798757Z",
     "iopub.status.idle": "2021-08-06T02:49:34.122978Z",
     "shell.execute_reply": "2021-08-06T02:49:34.123450Z",
     "shell.execute_reply.started": "2021-08-05T22:43:02.703959Z"
    },
    "papermill": {
     "duration": 2.6992,
     "end_time": "2021-08-06T02:49:34.123651",
     "exception": false,
     "start_time": "2021-08-06T02:49:31.424451",
     "status": "completed"
    },
    "tags": []
   },
   "outputs": [],
   "source": [
    "%matplotlib inline\n",
    "accuracy = history.history['accuracy']\n",
    "val_accuracy = history.history['val_accuracy']\n",
    "loss = history.history['loss']\n",
    "val_loss = history.history['val_loss']\n",
    "epochs = range(len(accuracy))\n",
    "plt.plot(epochs, accuracy, 'bo', label='Training accuracy')\n",
    "plt.plot(epochs, val_accuracy, 'b', label='Validation accuracy')\n",
    "plt.title('Training and validation accuracy')\n",
    "plt.legend()\n",
    "plt.figure()\n",
    "plt.plot(epochs, loss, 'bo', label='Training loss')\n",
    "plt.plot(epochs, val_loss, 'b', label='Validation loss')\n",
    "plt.title('Training and validation loss')\n",
    "plt.legend()\n",
    "plt.show()"
   ]
  }
 ],
 "metadata": {
  "kernelspec": {
   "display_name": "Python 3",
   "language": "python",
   "name": "python3"
  },
  "language_info": {
   "codemirror_mode": {
    "name": "ipython",
    "version": 3
   },
   "file_extension": ".py",
   "mimetype": "text/x-python",
   "name": "python",
   "nbconvert_exporter": "python",
   "pygments_lexer": "ipython3",
   "version": "3.8.8"
  },
  "latex_envs": {
   "LaTeX_envs_menu_present": true,
   "autoclose": false,
   "autocomplete": true,
   "bibliofile": "biblio.bib",
   "cite_by": "apalike",
   "current_citInitial": 1,
   "eqLabelWithNumbers": true,
   "eqNumInitial": 1,
   "hotkeys": {
    "equation": "Ctrl-E",
    "itemize": "Ctrl-I"
   },
   "labels_anchors": false,
   "latex_user_defs": false,
   "report_style_numbering": false,
   "user_envs_cfg": false
  },
  "papermill": {
   "default_parameters": {},
   "duration": 2714.690204,
   "end_time": "2021-08-06T02:49:38.157036",
   "environment_variables": {},
   "exception": null,
   "input_path": "__notebook__.ipynb",
   "output_path": "__notebook__.ipynb",
   "parameters": {},
   "start_time": "2021-08-06T02:04:23.466832",
   "version": "2.3.3"
  },
  "toc": {
   "base_numbering": 1,
   "nav_menu": {},
   "number_sections": true,
   "sideBar": true,
   "skip_h1_title": false,
   "title_cell": "Table of Contents",
   "title_sidebar": "Contents",
   "toc_cell": false,
   "toc_position": {},
   "toc_section_display": true,
   "toc_window_display": false
  }
 },
 "nbformat": 4,
 "nbformat_minor": 5
}
